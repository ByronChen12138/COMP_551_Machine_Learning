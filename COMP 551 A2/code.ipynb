{
  "nbformat": 4,
  "nbformat_minor": 0,
  "metadata": {
    "colab": {
      "name": "Assginment2_final_version.ipynb",
      "provenance": [],
      "collapsed_sections": [
        "zd3qXJ1pfYCR",
        "dHK9KN_zfYCa",
        "qMMdHSOQfYCd",
        "F94XLCBvfYCg",
        "YJwLLbHtNOoJ",
        "3LSA_qaF13yM",
        "gRxEKByZhFTZ",
        "vEtp7inAEgQf",
        "lDbh8Y711ata",
        "p70P4VbVk-eH",
        "FSOSTG4ngMXM",
        "QyYDOtx336Qc",
        "lo8yfOCq36Qc",
        "9cxqfVjF36Qd"
      ]
    },
    "kernelspec": {
      "display_name": "Python 3 (ipykernel)",
      "language": "python",
      "name": "python3"
    },
    "language_info": {
      "codemirror_mode": {
        "name": "ipython",
        "version": 3
      },
      "file_extension": ".py",
      "mimetype": "text/x-python",
      "name": "python",
      "nbconvert_exporter": "python",
      "pygments_lexer": "ipython3",
      "version": "3.9.7"
    }
  },
  "cells": [
    {
      "cell_type": "markdown",
      "metadata": {
        "id": "zd3qXJ1pfYCR"
      },
      "source": [
        "# I. Logistic Regression\n",
        "In logistic regression we perform binary classification of by learnig a function of the form $f_w(x) = \\sigma(x^\\top w)$. Here $x,w \\in \\mathbb{R}^D$, where $D$ is the number of features as before. $\\sigma(z) = \\frac{1}{1+e^{-z}}$ is the logistic function.  Let's plot this function below"
      ]
    },
    {
      "cell_type": "code",
      "metadata": {
        "id": "B5pe1Q2KfYCS"
      },
      "source": [
        "import numpy as np\n",
        "import pandas as pd\n",
        "import time as time\n",
        "\n",
        "#%matplotlib notebook\n",
        "%matplotlib inline\n",
        "import matplotlib.pyplot as plt\n",
        "\n",
        "from IPython.core.debugger import set_trace\n",
        "import warnings\n",
        "warnings.filterwarnings('ignore')"
      ],
      "execution_count": null,
      "outputs": []
    },
    {
      "cell_type": "code",
      "metadata": {
        "id": "C3pt1pgcfYCX"
      },
      "source": [
        "logistic = lambda z: 1./ (1 + np.exp(-z))  "
      ],
      "execution_count": null,
      "outputs": []
    },
    {
      "cell_type": "markdown",
      "metadata": {
        "id": "dHK9KN_zfYCa"
      },
      "source": [
        "## Cost function\n",
        "To fit our model $f_w$ to the data $\\mathcal{D} = \\{x^{(1)}, \\ldots, x^{(N)}\\}$, we maximize the **logarithm of the conditional likelihood**:\n",
        "\n",
        "$$\n",
        "\\ell(w; \\mathcal{D}) = \\sum_n \\log \\mathrm{Bernoulli}(y^{(n)} | \\sigma({x^{(n)}}^\\top w)) = \\sum_n y^{(n)} \\log \\sigma({x^{(n)}}^\\top w)) + (1-y^{(n)}) \\log (1-\\sigma({x^{(n)}}^\\top w)))\n",
        "$$\n",
        "\n",
        "by substituting the definition of logistic function in the equation above, and minimizing the **negative** of the log-likelihood, which is called the **cost function**,\n",
        "we get\n",
        "\n",
        "$$\n",
        "J(w) = \\sum_n y^{(n)} \\log(1+e^{-x w^\\top}) + (1-y^{(n)}) \\log(1+e^{x w^\\top})\n",
        "$$\n",
        "\n",
        "In practice we use **mean** rather than sum over data points."
      ]
    },
    {
      "cell_type": "code",
      "metadata": {
        "id": "4yF5vdWKfYCb"
      },
      "source": [
        "def cost_fn(x, y, w):\n",
        "    N, D = x.shape                                                       \n",
        "    z = np.dot(x, w)\n",
        "    J = np.mean(y * np.log1p(np.exp(-z)) + (1-y) * np.log1p(np.exp(z)))  #log1p calculates log(1+x) to remove floating point inaccuracies \n",
        "    return J"
      ],
      "execution_count": null,
      "outputs": []
    },
    {
      "cell_type": "markdown",
      "metadata": {
        "id": "qMMdHSOQfYCd"
      },
      "source": [
        "## Minimizing the cost using gradient descent\n",
        "To minimize the cost we use gradient descent: start from some initial assignment to the parameters $w$, and at each iteration take a small step in the opposite direction of the *gradient*. The gradient of the cost function above is given by:\n",
        "\n",
        "$$\n",
        "\\frac{\\partial}{\\partial w_d} J(w) =\\sum_n - y^{(n)} x^{(n)}_d \\frac{e^{-w^\\top x^{(n)}}}{1 + e^{-w^\\top x^{(n)}}} +x^{(n)}_d (1- y^{(n)}) \\frac{e^{w^\\top x^{(n)}}}{1 + e^{w^\\top x^{(n)}}} = \\sum_n - x^{(n)}_d y^{(n)} (1-\\hat{y}^{(n)})+ x^{(n)}_d (1- y^{(n)}) \\hat{y}^{(n)} = x^{(n)}_d (\\hat{y}^{(n)} - y^{(n)}) \n",
        "$$\n",
        "Since in practice we divide the cost by $N$, we have to the same for the gradient; see the implementation below."
      ]
    },
    {
      "cell_type": "code",
      "metadata": {
        "id": "I14oPfQMfYCe"
      },
      "source": [
        "def gradient(self, x, y):\n",
        "    N,D = x.shape\n",
        "    yh = logistic(np.dot(x, self.w))    # predictions size N\n",
        "    grad = np.dot(x.T, yh - y)/N        # divide by N because cost is mean over N points\n",
        "    return grad                         # size D"
      ],
      "execution_count": null,
      "outputs": []
    },
    {
      "cell_type": "markdown",
      "metadata": {
        "id": "F94XLCBvfYCg"
      },
      "source": [
        "## Logistic regression class\n",
        "Now we are ready to implement the logistic regression class with the usual `fit` and `predict` methods. Here, the `fit` method implements gradient descent."
      ]
    },
    {
      "cell_type": "code",
      "metadata": {
        "id": "uYaDp68p1wM5"
      },
      "source": [
        "def create_mini_batches(x, y, batch_size):\n",
        "    mini_batches = []\n",
        "    y_2d= np.reshape(y, (-1, 1))\n",
        "    data = np.hstack((x, y_2d))\n",
        "    n_minibatches = data.shape[0] // batch_size\n",
        "    i = 0\n",
        "  \n",
        "    for i in range(n_minibatches + 1):\n",
        "        mini_batch = data[i * batch_size:(i + 1)*batch_size, :]\n",
        "        X_mini = mini_batch[:, :-1]\n",
        "        Y_mini = mini_batch[:, -1].reshape((-1, 1))\n",
        "        mini_batches.append((X_mini, Y_mini))\n",
        "    if data.shape[0] % batch_size != 0:\n",
        "        mini_batch = data[i * batch_size:data.shape[0]]\n",
        "        X_mini = mini_batch[:, :-1]\n",
        "        Y_mini = mini_batch[:, -1].reshape((-1, 1))\n",
        "        mini_batches.append((X_mini, Y_mini))\n",
        "    return mini_batches"
      ],
      "execution_count": null,
      "outputs": []
    },
    {
      "cell_type": "code",
      "metadata": {
        "id": "IhCCw4PNfYCh"
      },
      "source": [
        "class LogisticRegression:\n",
        "\n",
        "    def __init__(self, add_bias=True, learning_rate=.1, epsilon=1e-4, max_iters=1e5, verbose=False, batch_size=1, err_specified=0, beta=0.9):\n",
        "        # The w0 term is the bias term\n",
        "        self.add_bias = add_bias\n",
        "        self.learning_rate = learning_rate\n",
        "        # to get the tolerance for the norm of gradients \n",
        "        self.epsilon = epsilon\n",
        "        # maximum number of iteration of gradient descent                        \n",
        "        self.max_iters = max_iters\n",
        "        # Output log text\n",
        "        self.verbose = verbose\n",
        "        # gradient array\n",
        "        self.grad_arr = []\n",
        "        # batch size\n",
        "        self.batch_size = batch_size\n",
        "        # Momentum coefficient\n",
        "        self.beta = beta\n",
        "        # The number of iterations taken \n",
        "        self.t = 0\n",
        "        self.prev_g = 0\n",
        "        self.err = 0\n",
        "        self.err_specified = err_specified\n",
        "\n",
        "    # The function to fit the model (Do gradient descent to find optimal vector w)\n",
        "    def fit(self, x, y):\n",
        "        # X here should be  a matrix, but if it has only 1 dimensional, we convert it to matrix.\n",
        "        if x.ndim == 1:\n",
        "            x = x[:, None]\n",
        "        \n",
        "        if self.add_bias:\n",
        "            N = x.shape[0]\n",
        "            x = np.column_stack([x,np.ones(N)])\n",
        "\n",
        "        N,D = x.shape\n",
        "\n",
        "        # Initialize the weight vectors with 0s\n",
        "        self.w = np.zeros(D)\n",
        "        self.prev_g = np.zeros(D)\n",
        "\n",
        "        # Initialize gradient to infinity\n",
        "        g = np.inf \n",
        "        \n",
        "        while np.linalg.norm(g) > self.epsilon and self.t < self.max_iters:\n",
        "            g = self.gradient(x, y)\n",
        "            \n",
        "            self.grad_arr.append(np.linalg.norm(g))\n",
        "            self.prev_g = g\n",
        "            \n",
        "            self.w = self.w - self.learning_rate * g\n",
        "            \n",
        "            self.t += 1\n",
        "\n",
        "            \n",
        "        \n",
        "        if self.verbose:\n",
        "            print(f'terminated after {self.t} iterations, with norm of the gradient equal to {np.linalg.norm(g)}')\n",
        "            # Gradient g has size=D\n",
        "            print(\"g = \" + str(g))\n",
        "            print(\"w = \" + str(self.w))\n",
        "\n",
        "        return self\n",
        "    \n",
        "     # The function to fit the model with minibatch of size \"batch_size\"\n",
        "    def fit_minibatch(self, x, y):\n",
        "\n",
        "        # X here should be  a matrix, but if it has only 1 dimensional, we convert it to matrix.\n",
        "        if x.ndim == 1:\n",
        "            x = x[:, None]\n",
        "\n",
        "        if self.add_bias:\n",
        "            N = x.shape[0]\n",
        "            x = np.column_stack([x,np.ones(N)])\n",
        "\n",
        "        # Number of rows: N instance. \n",
        "        # Number of columns: D features.\n",
        "        N,D = x.shape\n",
        "\n",
        "        # Initialize the weight vectors with 0s\n",
        "        self.w = np.zeros(D)\n",
        "        self.prev_g = np.zeros(D)\n",
        "        \n",
        "        # Initialize gradient to infinity\n",
        "        g = np.inf \n",
        "       \n",
        "        mini_batches = create_mini_batches(x, y, self.batch_size)\n",
        "        batch_index = 0\n",
        "\n",
        "        while np.linalg.norm(g) > self.epsilon and self.t < self.max_iters and cost_fn(x,y,self.w) > self.err_specified:\n",
        "\n",
        "            aBatch = mini_batches[batch_index]\n",
        "            x_mini, y_mini = aBatch\n",
        "\n",
        "            y_mini = y_mini.flatten()\n",
        "            \n",
        "            self.err = cost_fn(x,y,self.w)\n",
        "            g = self.gradient(x_mini, y_mini)\n",
        "            self.prev_g = g\n",
        "\n",
        "            self.w = self.w - self.learning_rate * g \n",
        "            self.t += 1\n",
        "            batch_index +=1\n",
        "            if(batch_index == (len(mini_batches)-1)):\n",
        "                batch_index=0\n",
        "            \n",
        "        \n",
        "        if self.verbose:\n",
        "            print(f'terminated after {self.t} iterations, with norm of the gradient equal to {np.linalg.norm(g)}')\n",
        "            # Gradient g has size=D\n",
        "            print(\"g = \" + str(g))\n",
        "            print(\"w = \" + str(self.w))\n",
        "\n",
        "        return self\n",
        "    \n",
        "    \n",
        "    def predict(self, x):\n",
        "        if x.ndim == 1:\n",
        "            x = x[:, None]\n",
        "        Nt = x.shape[0]\n",
        "        if self.add_bias:\n",
        "            x = np.column_stack([x,np.ones(Nt)])\n",
        "\n",
        "        # The predicted result is y_hat\n",
        "        yh = logistic(np.dot(x,self.w)) \n",
        "        return yh\n",
        "\n",
        "LogisticRegression.gradient = gradient             #initialize the gradient method of the LogisticRegression class with gradient function"
      ],
      "execution_count": null,
      "outputs": []
    },
    {
      "cell_type": "markdown",
      "metadata": {
        "id": "GBvrQercNOoB"
      },
      "source": [
        "# II. Diabetes Experiment\n",
        "\n",
        "We apply the logistic regression model with gradient descent on the diabetes patients data. We want to predict whether a patient has diabetes from 9 features that they have."
      ]
    },
    {
      "cell_type": "markdown",
      "metadata": {
        "id": "YJwLLbHtNOoJ"
      },
      "source": [
        "## 1). Load data\n"
      ]
    },
    {
      "cell_type": "code",
      "metadata": {
        "id": "ancjTeehOfG4",
        "colab": {
          "base_uri": "https://localhost:8080/"
        },
        "outputId": "97bf5d48-f04b-457c-a1d0-1d5628468600"
      },
      "source": [
        "# Read the training data from file. The headers are from the first row.\n",
        "diabetes_train = pd.read_csv('./drive/MyDrive/COMP551/diabetes/diabetes_train.csv', delimiter=\",\", header =0, index_col=False)\n",
        "\n",
        "# Show the first 5 instances\n",
        "print(diabetes_train.shape)\n",
        "diabetes_train.head()"
      ],
      "execution_count": null,
      "outputs": [
        {
          "output_type": "stream",
          "name": "stdout",
          "text": [
            "(600, 9)\n"
          ]
        },
        {
          "output_type": "execute_result",
          "data": {
            "text/html": [
              "<div>\n",
              "<style scoped>\n",
              "    .dataframe tbody tr th:only-of-type {\n",
              "        vertical-align: middle;\n",
              "    }\n",
              "\n",
              "    .dataframe tbody tr th {\n",
              "        vertical-align: top;\n",
              "    }\n",
              "\n",
              "    .dataframe thead th {\n",
              "        text-align: right;\n",
              "    }\n",
              "</style>\n",
              "<table border=\"1\" class=\"dataframe\">\n",
              "  <thead>\n",
              "    <tr style=\"text-align: right;\">\n",
              "      <th></th>\n",
              "      <th>Pregnancies</th>\n",
              "      <th>Glucose</th>\n",
              "      <th>BloodPressure</th>\n",
              "      <th>SkinThickness</th>\n",
              "      <th>Insulin</th>\n",
              "      <th>BMI</th>\n",
              "      <th>DiabetesPedigreeFunction</th>\n",
              "      <th>Age</th>\n",
              "      <th>Outcome</th>\n",
              "    </tr>\n",
              "  </thead>\n",
              "  <tbody>\n",
              "    <tr>\n",
              "      <th>0</th>\n",
              "      <td>5</td>\n",
              "      <td>144</td>\n",
              "      <td>82</td>\n",
              "      <td>26</td>\n",
              "      <td>285</td>\n",
              "      <td>32.0</td>\n",
              "      <td>0.452</td>\n",
              "      <td>58</td>\n",
              "      <td>1</td>\n",
              "    </tr>\n",
              "    <tr>\n",
              "      <th>1</th>\n",
              "      <td>0</td>\n",
              "      <td>128</td>\n",
              "      <td>68</td>\n",
              "      <td>19</td>\n",
              "      <td>180</td>\n",
              "      <td>30.5</td>\n",
              "      <td>1.391</td>\n",
              "      <td>25</td>\n",
              "      <td>1</td>\n",
              "    </tr>\n",
              "    <tr>\n",
              "      <th>2</th>\n",
              "      <td>9</td>\n",
              "      <td>156</td>\n",
              "      <td>86</td>\n",
              "      <td>28</td>\n",
              "      <td>155</td>\n",
              "      <td>34.3</td>\n",
              "      <td>1.189</td>\n",
              "      <td>42</td>\n",
              "      <td>1</td>\n",
              "    </tr>\n",
              "    <tr>\n",
              "      <th>3</th>\n",
              "      <td>1</td>\n",
              "      <td>144</td>\n",
              "      <td>82</td>\n",
              "      <td>46</td>\n",
              "      <td>180</td>\n",
              "      <td>46.1</td>\n",
              "      <td>0.335</td>\n",
              "      <td>46</td>\n",
              "      <td>1</td>\n",
              "    </tr>\n",
              "    <tr>\n",
              "      <th>4</th>\n",
              "      <td>0</td>\n",
              "      <td>179</td>\n",
              "      <td>90</td>\n",
              "      <td>27</td>\n",
              "      <td>0</td>\n",
              "      <td>44.1</td>\n",
              "      <td>0.686</td>\n",
              "      <td>23</td>\n",
              "      <td>1</td>\n",
              "    </tr>\n",
              "  </tbody>\n",
              "</table>\n",
              "</div>"
            ],
            "text/plain": [
              "   Pregnancies  Glucose  BloodPressure  ...  DiabetesPedigreeFunction  Age  Outcome\n",
              "0            5      144             82  ...                     0.452   58        1\n",
              "1            0      128             68  ...                     1.391   25        1\n",
              "2            9      156             86  ...                     1.189   42        1\n",
              "3            1      144             82  ...                     0.335   46        1\n",
              "4            0      179             90  ...                     0.686   23        1\n",
              "\n",
              "[5 rows x 9 columns]"
            ]
          },
          "metadata": {},
          "execution_count": 57
        }
      ]
    },
    {
      "cell_type": "code",
      "metadata": {
        "id": "Hn1FfWxKQP7E",
        "colab": {
          "base_uri": "https://localhost:8080/"
        },
        "outputId": "0be9ad49-f532-4a39-a199-9030d32d8479"
      },
      "source": [
        "# Read the validation data from file. The headers are from the first row.\n",
        "diabetes_val = pd.read_csv('./drive/MyDrive/COMP551/diabetes/diabetes_val.csv', delimiter=\",\", header =0, index_col=False)\n",
        "\n",
        "# Show the first 5 instances\n",
        "print(diabetes_val.shape)\n",
        "diabetes_val.head()"
      ],
      "execution_count": null,
      "outputs": [
        {
          "output_type": "stream",
          "name": "stdout",
          "text": [
            "(100, 9)\n"
          ]
        },
        {
          "output_type": "execute_result",
          "data": {
            "text/html": [
              "<div>\n",
              "<style scoped>\n",
              "    .dataframe tbody tr th:only-of-type {\n",
              "        vertical-align: middle;\n",
              "    }\n",
              "\n",
              "    .dataframe tbody tr th {\n",
              "        vertical-align: top;\n",
              "    }\n",
              "\n",
              "    .dataframe thead th {\n",
              "        text-align: right;\n",
              "    }\n",
              "</style>\n",
              "<table border=\"1\" class=\"dataframe\">\n",
              "  <thead>\n",
              "    <tr style=\"text-align: right;\">\n",
              "      <th></th>\n",
              "      <th>Pregnancies</th>\n",
              "      <th>Glucose</th>\n",
              "      <th>BloodPressure</th>\n",
              "      <th>SkinThickness</th>\n",
              "      <th>Insulin</th>\n",
              "      <th>BMI</th>\n",
              "      <th>DiabetesPedigreeFunction</th>\n",
              "      <th>Age</th>\n",
              "      <th>Outcome</th>\n",
              "    </tr>\n",
              "  </thead>\n",
              "  <tbody>\n",
              "    <tr>\n",
              "      <th>0</th>\n",
              "      <td>12</td>\n",
              "      <td>140</td>\n",
              "      <td>85</td>\n",
              "      <td>33</td>\n",
              "      <td>0</td>\n",
              "      <td>37.4</td>\n",
              "      <td>0.244</td>\n",
              "      <td>41</td>\n",
              "      <td>0</td>\n",
              "    </tr>\n",
              "    <tr>\n",
              "      <th>1</th>\n",
              "      <td>0</td>\n",
              "      <td>108</td>\n",
              "      <td>68</td>\n",
              "      <td>20</td>\n",
              "      <td>0</td>\n",
              "      <td>27.3</td>\n",
              "      <td>0.787</td>\n",
              "      <td>32</td>\n",
              "      <td>0</td>\n",
              "    </tr>\n",
              "    <tr>\n",
              "      <th>2</th>\n",
              "      <td>3</td>\n",
              "      <td>74</td>\n",
              "      <td>68</td>\n",
              "      <td>28</td>\n",
              "      <td>45</td>\n",
              "      <td>29.7</td>\n",
              "      <td>0.293</td>\n",
              "      <td>23</td>\n",
              "      <td>0</td>\n",
              "    </tr>\n",
              "    <tr>\n",
              "      <th>3</th>\n",
              "      <td>7</td>\n",
              "      <td>129</td>\n",
              "      <td>68</td>\n",
              "      <td>49</td>\n",
              "      <td>125</td>\n",
              "      <td>38.5</td>\n",
              "      <td>0.439</td>\n",
              "      <td>43</td>\n",
              "      <td>1</td>\n",
              "    </tr>\n",
              "    <tr>\n",
              "      <th>4</th>\n",
              "      <td>7</td>\n",
              "      <td>133</td>\n",
              "      <td>88</td>\n",
              "      <td>15</td>\n",
              "      <td>155</td>\n",
              "      <td>32.4</td>\n",
              "      <td>0.262</td>\n",
              "      <td>37</td>\n",
              "      <td>0</td>\n",
              "    </tr>\n",
              "  </tbody>\n",
              "</table>\n",
              "</div>"
            ],
            "text/plain": [
              "   Pregnancies  Glucose  BloodPressure  ...  DiabetesPedigreeFunction  Age  Outcome\n",
              "0           12      140             85  ...                     0.244   41        0\n",
              "1            0      108             68  ...                     0.787   32        0\n",
              "2            3       74             68  ...                     0.293   23        0\n",
              "3            7      129             68  ...                     0.439   43        1\n",
              "4            7      133             88  ...                     0.262   37        0\n",
              "\n",
              "[5 rows x 9 columns]"
            ]
          },
          "metadata": {},
          "execution_count": 58
        }
      ]
    },
    {
      "cell_type": "code",
      "metadata": {
        "id": "3hpTBWHnDTQx",
        "colab": {
          "base_uri": "https://localhost:8080/"
        },
        "outputId": "887667c1-f67d-4fc0-d825-5b5fc603486d"
      },
      "source": [
        "# Read the validation data from file. The headers are from the first row.\n",
        "diabetes_test = pd.read_csv('./drive/MyDrive/COMP551/diabetes/diabetes_test.csv', delimiter=\",\", header =0, index_col=False)\n",
        "\n",
        "# Show the first 5 instances\n",
        "print(diabetes_test.shape)\n",
        "diabetes_test.head()"
      ],
      "execution_count": null,
      "outputs": [
        {
          "output_type": "stream",
          "name": "stdout",
          "text": [
            "(68, 9)\n"
          ]
        },
        {
          "output_type": "execute_result",
          "data": {
            "text/html": [
              "<div>\n",
              "<style scoped>\n",
              "    .dataframe tbody tr th:only-of-type {\n",
              "        vertical-align: middle;\n",
              "    }\n",
              "\n",
              "    .dataframe tbody tr th {\n",
              "        vertical-align: top;\n",
              "    }\n",
              "\n",
              "    .dataframe thead th {\n",
              "        text-align: right;\n",
              "    }\n",
              "</style>\n",
              "<table border=\"1\" class=\"dataframe\">\n",
              "  <thead>\n",
              "    <tr style=\"text-align: right;\">\n",
              "      <th></th>\n",
              "      <th>Pregnancies</th>\n",
              "      <th>Glucose</th>\n",
              "      <th>BloodPressure</th>\n",
              "      <th>SkinThickness</th>\n",
              "      <th>Insulin</th>\n",
              "      <th>BMI</th>\n",
              "      <th>DiabetesPedigreeFunction</th>\n",
              "      <th>Age</th>\n",
              "      <th>Outcome</th>\n",
              "    </tr>\n",
              "  </thead>\n",
              "  <tbody>\n",
              "    <tr>\n",
              "      <th>0</th>\n",
              "      <td>5</td>\n",
              "      <td>117</td>\n",
              "      <td>92</td>\n",
              "      <td>0</td>\n",
              "      <td>0</td>\n",
              "      <td>34.1</td>\n",
              "      <td>0.337</td>\n",
              "      <td>38</td>\n",
              "      <td>0</td>\n",
              "    </tr>\n",
              "    <tr>\n",
              "      <th>1</th>\n",
              "      <td>10</td>\n",
              "      <td>179</td>\n",
              "      <td>70</td>\n",
              "      <td>0</td>\n",
              "      <td>0</td>\n",
              "      <td>35.1</td>\n",
              "      <td>0.200</td>\n",
              "      <td>37</td>\n",
              "      <td>0</td>\n",
              "    </tr>\n",
              "    <tr>\n",
              "      <th>2</th>\n",
              "      <td>0</td>\n",
              "      <td>129</td>\n",
              "      <td>110</td>\n",
              "      <td>46</td>\n",
              "      <td>130</td>\n",
              "      <td>67.1</td>\n",
              "      <td>0.319</td>\n",
              "      <td>26</td>\n",
              "      <td>1</td>\n",
              "    </tr>\n",
              "    <tr>\n",
              "      <th>3</th>\n",
              "      <td>1</td>\n",
              "      <td>109</td>\n",
              "      <td>60</td>\n",
              "      <td>8</td>\n",
              "      <td>182</td>\n",
              "      <td>25.4</td>\n",
              "      <td>0.947</td>\n",
              "      <td>21</td>\n",
              "      <td>0</td>\n",
              "    </tr>\n",
              "    <tr>\n",
              "      <th>4</th>\n",
              "      <td>1</td>\n",
              "      <td>108</td>\n",
              "      <td>60</td>\n",
              "      <td>46</td>\n",
              "      <td>178</td>\n",
              "      <td>35.5</td>\n",
              "      <td>0.415</td>\n",
              "      <td>24</td>\n",
              "      <td>0</td>\n",
              "    </tr>\n",
              "  </tbody>\n",
              "</table>\n",
              "</div>"
            ],
            "text/plain": [
              "   Pregnancies  Glucose  BloodPressure  ...  DiabetesPedigreeFunction  Age  Outcome\n",
              "0            5      117             92  ...                     0.337   38        0\n",
              "1           10      179             70  ...                     0.200   37        0\n",
              "2            0      129            110  ...                     0.319   26        1\n",
              "3            1      109             60  ...                     0.947   21        0\n",
              "4            1      108             60  ...                     0.415   24        0\n",
              "\n",
              "[5 rows x 9 columns]"
            ]
          },
          "metadata": {},
          "execution_count": 59
        }
      ]
    },
    {
      "cell_type": "markdown",
      "metadata": {
        "id": "3LSA_qaF13yM"
      },
      "source": [
        "### See covariance among features"
      ]
    },
    {
      "cell_type": "code",
      "metadata": {
        "id": "2ervjoHJ0jdy",
        "colab": {
          "base_uri": "https://localhost:8080/"
        },
        "outputId": "3a5fe198-ecfc-4a4b-d877-25aaa127f1a5"
      },
      "source": [
        "import pandas as pd\n",
        "import numpy as np\n",
        "import seaborn as sns\n",
        "import matplotlib.pyplot as plt\n",
        "\n",
        "corr = diabetes_train.corr()\n",
        "print(corr)\n",
        "sns.heatmap(corr, \n",
        "         xticklabels=corr.columns, \n",
        "         yticklabels=corr.columns)"
      ],
      "execution_count": null,
      "outputs": [
        {
          "output_type": "stream",
          "name": "stdout",
          "text": [
            "                          Pregnancies   Glucose  ...       Age   Outcome\n",
            "Pregnancies                  1.000000  0.105370  ...  0.536766  0.227726\n",
            "Glucose                      0.105370  1.000000  ...  0.276191  0.471026\n",
            "BloodPressure                0.135794  0.107605  ...  0.242953  0.047664\n",
            "SkinThickness               -0.072379  0.055838  ... -0.097644  0.064961\n",
            "Insulin                     -0.079542  0.356400  ... -0.011463  0.160930\n",
            "BMI                          0.025301  0.190370  ...  0.040474  0.283887\n",
            "DiabetesPedigreeFunction    -0.047635  0.109898  ...  0.031853  0.156866\n",
            "Age                          0.536766  0.276191  ...  1.000000  0.244593\n",
            "Outcome                      0.227726  0.471026  ...  0.244593  1.000000\n",
            "\n",
            "[9 rows x 9 columns]\n"
          ]
        },
        {
          "output_type": "execute_result",
          "data": {
            "text/plain": [
              "<matplotlib.axes._subplots.AxesSubplot at 0x7f40a0116810>"
            ]
          },
          "metadata": {},
          "execution_count": 60
        },
        {
          "output_type": "display_data",
          "data": {
            "image/png": "[encoded data removed]",
            "text/plain": [
              "<Figure size 432x288 with 2 Axes>"
            ]
          },
          "metadata": {
            "needs_background": "light"
          }
        }
      ]
    },
    {
      "cell_type": "markdown",
      "metadata": {
        "id": "gRxEKByZhFTZ"
      },
      "source": [
        "### Define features and labels"
      ]
    },
    {
      "cell_type": "code",
      "metadata": {
        "id": "FD-FxAGSg-6g"
      },
      "source": [
        "#Training data\n",
        "X = diabetes_train.drop(['Outcome'],1).values\n",
        "y = diabetes_train['Outcome'].values\n",
        "\n",
        "#Validation data\n",
        "X_val = diabetes_val.drop(['Outcome'],1).values\n",
        "y_val = diabetes_val['Outcome'].values\n",
        "\n",
        "#Test data\n",
        "X_test = diabetes_test.drop(['Outcome'],1).values\n",
        "y_test = diabetes_test['Outcome'].values\n"
      ],
      "execution_count": null,
      "outputs": []
    },
    {
      "cell_type": "markdown",
      "metadata": {
        "id": "vEtp7inAEgQf"
      },
      "source": [
        "### Noralmization (Optional) "
      ]
    },
    {
      "cell_type": "code",
      "metadata": {
        "colab": {
          "base_uri": "https://localhost:8080/"
        },
        "id": "1ztvh9Wggng-",
        "outputId": "5cda5137-7150-4561-dfdf-0c64c729dd58"
      },
      "source": [
        "means = np.mean(X, axis=0)\n",
        "stds = np.std(X, axis=0)\n",
        "X_norm = (X - means)/stds\n",
        "X_val_norm = (X_val - means)/stds\n",
        "X_test_norm = (X_test - means)/stds\n",
        "\n",
        "print(np.mean(X, axis=0)) #=> check that new means equal 0\n",
        "print(np.std(X, axis=0)) #=> check that new stds equal 1"
      ],
      "execution_count": null,
      "outputs": [
        {
          "output_type": "stream",
          "name": "stdout",
          "text": [
            "[  3.93666667 120.805       68.83        20.25833333  77.81333333\n",
            "  31.891        0.47257333  33.55166667]\n",
            "[  3.37233681  32.00000482  19.0144971   16.19089036 115.65538677\n",
            "   7.67570316   0.33971393  11.81202765]\n"
          ]
        }
      ]
    },
    {
      "cell_type": "markdown",
      "metadata": {
        "id": "lDbh8Y711ata"
      },
      "source": [
        "### Test and show convergence"
      ]
    },
    {
      "cell_type": "code",
      "metadata": {
        "colab": {
          "base_uri": "https://localhost:8080/"
        },
        "id": "ZCWFtsPKNOoK",
        "outputId": "34812262-63fa-48fd-d4e7-ce1886d507b2"
      },
      "source": [
        "#Initialize the logistic regression model with learning rate \n",
        "model = LogisticRegression(add_bias=True, learning_rate=0.0001, epsilon=1e-4, max_iters=1e5, verbose=True)\n",
        "\n",
        "model = model.fit(X,y)\n",
        "\n",
        "# Training accuracy\n",
        "yh = np.rint(model.predict(X))\n",
        "acc = (y == yh).sum() / y.size\n",
        "\n",
        "# Validation accuracy\n",
        "yh_val = np.rint(model.predict(X_val))\n",
        "acc_val = (y_val == yh_val).sum() / y_val.size\n",
        "\n",
        "# Test accuracy\n",
        "yh_test = np.rint(model.predict(X_test))\n",
        "acc_test = (y_test == yh_test).sum() / y_test.size\n",
        "\n",
        "print(\"tain_acc = \" + str(acc))\n",
        "print(\"val_acc = \" + str(acc_val))\n",
        "print(\"test_acc = \" + str(acc_test))"
      ],
      "execution_count": null,
      "outputs": [
        {
          "output_type": "stream",
          "name": "stdout",
          "text": [
            "terminated after 100000 iterations, with norm of the gradient equal to 0.034307864937074266\n",
            "g = [ 1.21397313e-04 -7.41129275e-05 -1.22501969e-04  2.07737786e-05\n",
            "  9.85639110e-06 -3.37133297e-04 -6.16751736e-03 -1.00239568e-04\n",
            "  3.37465828e-02]\n",
            "w = [ 0.13152847  0.014274   -0.02976018 -0.00115303  0.00150239 -0.00238826\n",
            "  0.06590202 -0.01156154 -0.34707329]\n",
            "tain_acc = 0.7083333333333334\n",
            "val_acc = 0.68\n",
            "test_acc = 0.7205882352941176\n"
          ]
        }
      ]
    },
    {
      "cell_type": "code",
      "metadata": {
        "colab": {
          "base_uri": "https://localhost:8080/"
        },
        "id": "aMD9fc7Q3xkn",
        "outputId": "03eed65d-9811-4530-cd7b-635be3c55778"
      },
      "source": [
        "# Plot the score\n",
        "plt.figure(figsize=(10,6))\n",
        "\n",
        "x = np.arange(1,100000)\n",
        "plt.plot(x, model.grad_arr[1:])\n",
        "ax = plt.gca()\n",
        "ax.set_xscale('log')\n",
        "\n",
        "plt.xlabel(\"Number of iteration\")\n",
        "plt.ylabel(\"Gradient\")\n",
        "plt.savefig(\"Gradient_converge\")\n",
        "plt.show()"
      ],
      "execution_count": null,
      "outputs": [
        {
          "output_type": "display_data",
          "data": {
            "image/png": "[encoded data removed]",
            "text/plain": [
              "<Figure size 720x432 with 1 Axes>"
            ]
          },
          "metadata": {
            "needs_background": "light"
          }
        }
      ]
    },
    {
      "cell_type": "markdown",
      "metadata": {
        "id": "rvf_6IPzkf9F"
      },
      "source": [
        "## 2). Tune the learning rate\n",
        "\n",
        "\n"
      ]
    },
    {
      "cell_type": "code",
      "metadata": {
        "colab": {
          "base_uri": "https://localhost:8080/"
        },
        "id": "2T-i55lZmB21",
        "outputId": "89add3d5-63cc-475d-b0af-6f36d54f2c8e"
      },
      "source": [
        "# Specify a list of impurity decrease we want to test\n",
        "best_acc = 0\n",
        "best_cfg = 0\n",
        "lr_list = [0.00001, 0.00005, 0.0001, 0.0005,0.001,0.005, 0.01, 0.05, 0.1, 0.5, 1, 5]\n",
        "acc_list = []\n",
        "val_acc_list = []\n",
        "\n",
        "for lr in lr_list:\n",
        "  #Initialize the logistic regression model with learning rate \n",
        "  model = LogisticRegression(add_bias=True, learning_rate=lr, epsilon=1e-40, max_iters=1e4, verbose=True)  \n",
        "\n",
        "  # Predict the result on the training set\n",
        "  model = model.fit(X,y)\n",
        "  yh = np.rint( model.predict(X) )\n",
        "  yh_val = np.rint( model.predict(X_val) )\n",
        "\n",
        "  # Report the accuracy\n",
        "  acc = (y == yh).sum() / y.size\n",
        "  acc_val = (y_val == yh_val).sum() / y_val.size\n",
        "  print(\"learning_rate = \" + str(lr))\n",
        "  print(\"accuracy = \"+str(acc_val))\n",
        "  print()\n",
        "\n",
        "  acc_list.append(acc)\n",
        "  val_acc_list.append(acc_val)\n",
        "\n",
        "  # Keep track of the best accuracy and its configuation\n",
        "  if acc_val > best_acc:\n",
        "    best_cfg = lr\n",
        "    best_acc = acc_val\n",
        "\n",
        "print(f'best validation accuracy : {best_acc:.3f} found with learning_rate = {best_cfg}')"
      ],
      "execution_count": null,
      "outputs": [
        {
          "output_type": "stream",
          "name": "stdout",
          "text": [
            "terminated after 10000 iterations, with norm of the gradient equal to 0.19130443252157797\n",
            "g = [-1.86773322e-01  3.80443628e-04  1.12029847e-02 -1.34367936e-02\n",
            "  1.10335101e-04  6.28598875e-03 -5.55000856e-03 -1.11835254e-03\n",
            "  3.65422220e-02]\n",
            "w = [ 0.02109884  0.01231723 -0.03025673 -0.0015395   0.00145767 -0.0055575\n",
            "  0.0005087   0.00435942 -0.00378294]\n",
            "learning_rate = 1e-05\n",
            "accuracy = 0.64\n",
            "\n",
            "terminated after 10000 iterations, with norm of the gradient equal to 0.1015524402100169\n",
            "g = [-9.35183896e-02 -1.14596947e-03  1.28608829e-04  2.85586976e-05\n",
            " -1.23204885e-04 -6.37931959e-04 -6.32490152e-03  1.52272590e-02\n",
            "  3.59664064e-02]\n",
            "w = [ 0.07437811  0.01281323 -0.03057854 -0.0009706   0.00151194 -0.00593503\n",
            "  0.00289471 -0.00295722 -0.01827149]\n",
            "learning_rate = 5e-05\n",
            "accuracy = 0.65\n",
            "\n",
            "terminated after 10000 iterations, with norm of the gradient equal to 0.05549797321390253\n",
            "g = [-4.15028977e-02 -6.19398271e-04  1.71617483e-04  2.02588017e-07\n",
            " -5.23036918e-05 -5.58185412e-04 -6.77666157e-03  6.72029494e-03\n",
            "  3.55769812e-02]\n",
            "w = [ 0.10634008  0.01324276 -0.03067612 -0.00097639  0.00155382 -0.00562319\n",
            "  0.00618771 -0.00815136 -0.03614793]\n",
            "learning_rate = 0.0001\n",
            "accuracy = 0.67\n",
            "\n",
            "terminated after 10000 iterations, with norm of the gradient equal to 57.39313973539214\n",
            "g = [ -1.26462353 -38.8879248  -21.28373374  -6.72444882 -32.8778415\n",
            "  -9.74338058  -0.15587172 -10.29104301  -0.26682984]\n",
            "w = [ 0.2848346   0.03421306 -0.04951734 -0.00869339  0.01535605 -0.01216415\n",
            "  0.03117524 -0.02063836 -0.17793798]\n",
            "learning_rate = 0.0005\n",
            "accuracy = 0.49\n",
            "\n",
            "terminated after 10000 iterations, with norm of the gradient equal to 65.27604148281094\n",
            "g = [ -1.53211311 -44.92892157 -24.4722458   -7.54155885 -36.26624139\n",
            " -11.21193173  -0.17755958 -11.96505706  -0.31385935]\n",
            "w = [ 0.60725578  0.06682714 -0.09697304 -0.02115336  0.03347322 -0.02011823\n",
            "  0.05880928 -0.04159531 -0.35273721]\n",
            "learning_rate = 0.001\n",
            "accuracy = 0.49\n",
            "\n",
            "terminated after 10000 iterations, with norm of the gradient equal to 64.93261217819216\n",
            "g = [ -1.54673623 -44.26126862 -24.68297401  -7.55140473 -36.4081109\n",
            " -11.06175486  -0.17575342 -11.85240353  -0.30918248]\n",
            "w = [ 2.78662985  0.33442129 -0.43282106 -0.08912747  0.15693146 -0.06727745\n",
            "  0.32157085 -0.16392719 -1.78282201]\n",
            "learning_rate = 0.005\n",
            "accuracy = 0.42\n",
            "\n",
            "terminated after 10000 iterations, with norm of the gradient equal to 64.82324043735055\n",
            "g = [ -1.54288152 -44.15149674 -24.66739335  -7.5395008  -36.37567898\n",
            " -11.03273098  -0.1753975  -11.830298    -0.30837745]\n",
            "w = [ 5.530682    0.67018851 -0.85658175 -0.17978721  0.315685   -0.15174257\n",
            "  0.6530109  -0.31705837 -3.54091602]\n",
            "learning_rate = 0.01\n",
            "accuracy = 0.43\n",
            "\n",
            "terminated after 10000 iterations, with norm of the gradient equal to 64.89825741746496\n",
            "g = [ -1.54726421 -44.21896539 -24.68282492  -7.54820586 -36.39988945\n",
            " -11.0456535   -0.17585254 -11.86469135  -0.30885869]\n",
            "w = [ 27.55703443   3.33777305  -4.24755981  -0.89372995   1.56934172\n",
            "  -0.75505517   3.26819025  -1.66387583 -17.77050414]\n",
            "learning_rate = 0.05\n",
            "accuracy = 0.43\n",
            "\n",
            "terminated after 10000 iterations, with norm of the gradient equal to 65.08172486679446\n",
            "g = [ -1.56124273 -44.35299403 -24.74202804  -7.58191874 -36.49362772\n",
            " -11.07928398  -0.17652433 -11.90333775  -0.30968094]\n",
            "w = [ 55.26001673   6.67225162  -8.49252255  -1.74463854   3.14961477\n",
            "  -1.52676375   6.47562317  -3.39355548 -35.68205366]\n",
            "learning_rate = 0.1\n",
            "accuracy = 0.43\n",
            "\n",
            "terminated after 10000 iterations, with norm of the gradient equal to 65.14961571457509\n",
            "g = [ -1.5664152  -44.40258892 -24.76393498  -7.59439353 -36.52831373\n",
            " -11.09172835  -0.17677292 -11.91763811  -0.30998521]\n",
            "w = [ 276.14252572   33.46449925  -42.64882909   -8.79176629   15.75578136\n",
            "   -7.96666167   32.70542083  -16.45434028 -177.81905952]\n",
            "learning_rate = 0.5\n",
            "accuracy = 0.43\n",
            "\n",
            "terminated after 10000 iterations, with norm of the gradient equal to 65.14056734841012\n",
            "g = [ -1.56572583 -44.39597906 -24.76101529  -7.59273093 -36.52369087\n",
            " -11.0900698   -0.17673978 -11.9157322   -0.30994466]\n",
            "w = [ 552.3473815    67.0494214   -85.38352966  -17.74670482   31.41214309\n",
            "  -16.02660897   65.11030529  -32.63849026 -356.75011712]\n",
            "learning_rate = 1\n",
            "accuracy = 0.43\n",
            "\n",
            "terminated after 10000 iterations, with norm of the gradient equal to 67.29620775419907\n",
            "g = [ -1.60166667 -47.125      -24.86833333  -7.645      -36.53\n",
            " -11.72183333  -0.18412333 -12.51333333  -0.33      ]\n",
            "w = [ 2762.40020963   274.54894188  -470.01769952   -98.27639561\n",
            "   142.78389398   -97.51358114   326.15807076  -181.81669147\n",
            " -1781.19594279]\n",
            "learning_rate = 5\n",
            "accuracy = 0.52\n",
            "\n",
            "best validation accuracy : 0.670 found with learning_rate = 0.0001\n"
          ]
        }
      ]
    },
    {
      "cell_type": "code",
      "metadata": {
        "colab": {
          "base_uri": "https://localhost:8080/"
        },
        "id": "K79jx0k3uQCc",
        "outputId": "7465a135-1c6d-4591-9709-755ac8b253d9"
      },
      "source": [
        "# Plot the score\n",
        "plt.figure(figsize=(10,6))\n",
        "\n",
        "plt.plot(lr_list, acc_list)\n",
        "plt.plot(lr_list, val_acc_list)\n",
        "ax = plt.gca()\n",
        "ax.set_xscale('log')\n",
        "\n",
        "plt.xlabel(\"Learning_rate\")\n",
        "plt.ylabel(\"Accuracy\")\n",
        "plt.title(\"Accuracy varies with different learning rate (each with 10000 iterations)\")\n",
        "plt.legend([\"training\", \"validation\"])\n",
        "plt.savefig(\"learning_rate\")\n",
        "plt.show()"
      ],
      "execution_count": null,
      "outputs": [
        {
          "output_type": "display_data",
          "data": {
            "image/png": "[encoded data removed]",
            "text/plain": [
              "<Figure size 720x432 with 1 Axes>"
            ]
          },
          "metadata": {
            "needs_background": "light"
          }
        }
      ]
    },
    {
      "cell_type": "markdown",
      "metadata": {
        "id": "p70P4VbVk-eH"
      },
      "source": [
        "## 3). Tune the number of iterations\n",
        "\n",
        "\n"
      ]
    },
    {
      "cell_type": "code",
      "metadata": {
        "colab": {
          "base_uri": "https://localhost:8080/"
        },
        "id": "PG7J2lPOlNTs",
        "outputId": "52731a5c-1f79-4810-99d3-75e8b647ca8e"
      },
      "source": [
        "# Specify a list of impurity decrease we want to test\n",
        "best_acc = 0\n",
        "best_cfg = 0\n",
        "iter_list = [100, 500, 1000, 5000, 1e4, 5e4, 1e5, 5e5, 1e6]\n",
        "acc_list = []\n",
        "val_acc_list = []\n",
        "\n",
        "for iter in iter_list:\n",
        "\n",
        "  model = LogisticRegression(add_bias=True, learning_rate=0.001, epsilon=1e-40, max_iters=iter, verbose=True)  \n",
        "\n",
        "  # Predict the result on the training set\n",
        "  model = model.fit(X,y)\n",
        "  yh = np.rint( model.predict(X) )\n",
        "  yh_val = np.rint( model.predict(X_val) )\n",
        "\n",
        "  # Report the accuracy\n",
        "  acc = (y == yh).sum() / y.size\n",
        "  acc_val = (y_val == yh_val).sum() / y_val.size\n",
        "  print(\"max_iteration = \" + str(iter))\n",
        "  print(\"accuracy = \"+str(acc_val))\n",
        "  print()\n",
        "\n",
        "  acc_list.append(acc)\n",
        "  val_acc_list.append(acc_val)\n",
        "\n",
        "  # Keep track of the best accuracy and its configuation\n",
        "  if acc_val > best_acc:\n",
        "    best_cfg = iter\n",
        "    best_acc = acc_val\n",
        "\n",
        "print(f'best validation accuracy : {best_acc:.3f} found with max_iteration = {best_cfg}')"
      ],
      "execution_count": null,
      "outputs": [
        {
          "output_type": "stream",
          "name": "stdout",
          "text": [
            "terminated after 100 iterations, with norm of the gradient equal to 67.21959093220221\n",
            "g = [ -1.66806849 -47.02699664 -24.84980386  -7.67501951 -36.52369047\n",
            " -11.710799    -0.18381915 -12.50872704  -0.33021662]\n",
            "w = [ 0.02383915  0.05206389 -0.08627922 -0.02308049  0.02341698 -0.00867443\n",
            "  0.00045779  0.01457481 -0.00366761]\n",
            "max_iteration = 100\n",
            "accuracy = 0.5\n",
            "\n",
            "terminated after 500 iterations, with norm of the gradient equal to 66.58501617198519\n",
            "g = [ -1.63003244 -46.23384704 -24.84415314  -7.65511947 -36.52093215\n",
            " -11.52038145  -0.18123069 -12.28293985  -0.32377785]\n",
            "w = [ 0.10386957  0.05041985 -0.09417113 -0.02095466  0.02586705 -0.00849911\n",
            "  0.00253458  0.02761571 -0.01782404]\n",
            "max_iteration = 500\n",
            "accuracy = 0.49\n",
            "\n",
            "terminated after 1000 iterations, with norm of the gradient equal to 66.45228112905755\n",
            "g = [ -1.61721797 -46.07200221 -24.83573701  -7.64689995 -36.51828379\n",
            " -11.47940625  -0.18078746 -12.24228371  -0.32242988]\n",
            "w = [ 0.18290047  0.05207662 -0.09314978 -0.02014158  0.0265444  -0.00865251\n",
            "  0.00519138  0.01690451 -0.03550479]\n",
            "max_iteration = 1000\n",
            "accuracy = 0.49\n",
            "\n",
            "terminated after 5000 iterations, with norm of the gradient equal to 65.75036384808718\n",
            "g = [ -1.56888507 -45.3177668  -24.66953608  -7.599168   -36.42929736\n",
            " -11.30328315  -0.17874278 -12.06753883  -0.31659897]\n",
            "w = [ 0.49981435  0.06328241 -0.09597986 -0.02071289  0.03205013 -0.01705448\n",
            "  0.02836925 -0.0273576  -0.17659528]\n",
            "max_iteration = 5000\n",
            "accuracy = 0.49\n",
            "\n",
            "terminated after 10000 iterations, with norm of the gradient equal to 65.27604148281094\n",
            "g = [ -1.53211311 -44.92892157 -24.4722458   -7.54155885 -36.26624139\n",
            " -11.21193173  -0.17755958 -11.96505706  -0.31385935]\n",
            "w = [ 0.60725578  0.06682714 -0.09697304 -0.02115336  0.03347322 -0.02011823\n",
            "  0.05880928 -0.04159531 -0.35273721]\n",
            "max_iteration = 10000.0\n",
            "accuracy = 0.49\n",
            "\n",
            "terminated after 50000 iterations, with norm of the gradient equal to 65.10621286313437\n",
            "g = [ -1.51676099 -44.86868174 -24.36927022  -7.50638098 -36.12331225\n",
            " -11.19110036  -0.1771965  -11.95191285  -0.31411407]\n",
            "w = [ 0.63241439  0.07217669 -0.09297791 -0.02251873  0.03417416 -0.00983896\n",
            "  0.29121473 -0.04262075 -1.72243055]\n",
            "max_iteration = 50000.0\n",
            "accuracy = 0.48\n",
            "\n",
            "terminated after 100000 iterations, with norm of the gradient equal to 65.00015626788687\n",
            "g = [ -1.50989336 -44.87512004 -24.29646618  -7.4788191  -35.97811651\n",
            " -11.18532229  -0.17699971 -11.96019386  -0.31506409]\n",
            "w = [ 0.63260215  0.0780354  -0.08835453 -0.02346052  0.03457066  0.00354448\n",
            "  0.54864778 -0.03971575 -3.34298196]\n",
            "max_iteration = 100000.0\n",
            "accuracy = 0.5\n",
            "\n",
            "terminated after 500000 iterations, with norm of the gradient equal to 61.34240700322385\n",
            "g = [ -1.39701969 -42.35333902 -22.75781072  -7.05659216 -34.0211026\n",
            " -10.6023822   -0.16372676 -11.37783872  -0.30416191]\n",
            "w = [ 5.78547631e-01  1.10336603e-01 -6.03621990e-02 -2.01471283e-02\n",
            "  3.03057506e-02  9.03412064e-02  1.90011938e+00 -6.24974673e-03\n",
            " -1.33105221e+01]\n",
            "max_iteration = 500000.0\n",
            "accuracy = 0.56\n",
            "\n",
            "terminated after 1000000 iterations, with norm of the gradient equal to 54.84209880421357\n",
            "g = [ -1.20612732 -37.20553916 -20.02708547  -6.32681923 -31.47901762\n",
            "  -9.40271466  -0.14082049 -10.0698243   -0.27447278]\n",
            "w = [ 5.05983158e-01  1.21525388e-01 -3.96970355e-02 -1.72448126e-02\n",
            "  2.46974260e-02  1.70477435e-01  2.26760521e+00  2.36794237e-02\n",
            " -1.98271150e+01]\n",
            "max_iteration = 1000000.0\n",
            "accuracy = 0.63\n",
            "\n",
            "best validation accuracy : 0.630 found with max_iteration = 1000000.0\n"
          ]
        }
      ]
    },
    {
      "cell_type": "code",
      "metadata": {
        "colab": {
          "base_uri": "https://localhost:8080/"
        },
        "id": "AQjpVYszpBi0",
        "outputId": "84153197-bf9a-469b-f9a6-076729f7204f"
      },
      "source": [
        "# Plot the score\n",
        "plt.figure(figsize=(10,6))\n",
        "\n",
        "plt.plot(iter_list, acc_list)\n",
        "plt.plot(iter_list, val_acc_list)\n",
        "ax = plt.gca()\n",
        "ax.set_xscale('log')\n",
        "\n",
        "plt.xlabel(\"Max_iteration\")\n",
        "plt.ylabel(\"Accuracy\")\n",
        "plt.title(\"Accuracy varies with different number of iterations (learning_rate=0.001) \")\n",
        "plt.legend([\"training\", \"validation\"])\n",
        "plt.savefig(\"iteration\")\n",
        "plt.show()"
      ],
      "execution_count": null,
      "outputs": [
        {
          "output_type": "display_data",
          "data": {
            "image/png": "[encoded data removed]",
            "text/plain": [
              "<Figure size 720x432 with 1 Axes>"
            ]
          },
          "metadata": {
            "needs_background": "light"
          }
        }
      ]
    },
    {
      "cell_type": "markdown",
      "metadata": {
        "id": "NYLQX3St6u9J"
      },
      "source": [
        "## 4) Mini-batch stochastic gradient descent"
      ]
    },
    {
      "cell_type": "code",
      "metadata": {
        "id": "kpsytQnk6-ZZ",
        "colab": {
          "base_uri": "https://localhost:8080/"
        },
        "outputId": "dcee63db-36c4-478d-881d-2a7a9ece617d"
      },
      "source": [
        "import time as time\n",
        "# Specify a list of impurity decrease we want to test\n",
        "best_acc = 0\n",
        "best_cfg = 0\n",
        "batch_list = [1, 2, 4, 8, 16, 32, 64, 128, 256, 512, 600]\n",
        "acc_list = []\n",
        "val_acc_list = []\n",
        "time_list = []\n",
        "epoch_list = []\n",
        "err_list = []\n",
        "\n",
        "for batch in batch_list:\n",
        "\n",
        "    start_time = time.time()\n",
        "    model = LogisticRegression(add_bias=True, learning_rate=0.0001, epsilon=0.0001, max_iters=3e6, verbose=True, batch_size=batch, err_specified=0.5)  \n",
        "    \n",
        "    # Predict the result on the training set\n",
        "    model = model.fit_minibatch(X,y)\n",
        "    \n",
        "    yh = np.rint( model.predict(X) )\n",
        "    yh_val = np.rint( model.predict(X_val) )\n",
        "\n",
        "    temp_time = time.time() - start_time\n",
        "\n",
        "    # Report the accuracy\n",
        "    acc = (y == yh).sum() / y.size\n",
        "    acc_val = (y_val == yh_val).sum() / y_val.size\n",
        "    print(\"batch_size = \" + str(batch))\n",
        "    print(\"accuracy = \"+str(acc_val))\n",
        "    print(\"err = \" + str(model.err))\n",
        "    print(\"--- %s seconds ---\" % (temp_time))\n",
        "    print()\n",
        "\n",
        "    acc_list.append(acc)\n",
        "    val_acc_list.append(acc_val)\n",
        "    time_list.append(temp_time)\n",
        "    epoch_list.append(model.t)\n",
        "    err_list.append(model.err)\n",
        "\n",
        "    # Keep track of the best accuracy and its configuation\n",
        "    if acc_val > best_acc:\n",
        "        best_cfg = batch\n",
        "        best_acc = acc_val\n",
        "\n",
        "print(f'best validation accuracy : {best_acc:.3f} found with batch_size = {best_cfg}')"
      ],
      "execution_count": null,
      "outputs": [
        {
          "output_type": "stream",
          "name": "stdout",
          "text": [
            "terminated after 2066360 iterations, with norm of the gradient equal to 45.73562047117866\n",
            "g = [ 0.31695698 37.71788064 17.11567693  4.12044074 15.84784901  7.06814066\n",
            "  0.06497618  7.60696752  0.31695698]\n",
            "w = [ 1.97684223e-01  2.91466446e-02 -1.95596918e-02  3.55206335e-03\n",
            " -1.47114137e-03  4.59396670e-02  1.08503165e+00 -6.63908005e-03\n",
            " -5.09781791e+00]\n",
            "batch_size = 1\n",
            "accuracy = 0.74\n",
            "err = 0.5882741343573465\n",
            "--- 401.6544222831726 seconds ---\n",
            "\n",
            "terminated after 1701534 iterations, with norm of the gradient equal to 72.93781688318316\n",
            "g = [ -1.15377326 -52.14559793 -30.93385363  -8.82826631 -35.85855956\n",
            " -11.43531587  -0.12482942 -12.15767677  -0.40191977]\n",
            "w = [ 1.64904106e-01  2.57734679e-02 -2.23774050e-02  2.54550260e-03\n",
            " -1.11979892e-04  3.73112091e-02  6.49168110e-01 -6.44176895e-03\n",
            " -4.19006095e+00]\n",
            "batch_size = 2\n",
            "accuracy = 0.75\n",
            "err = 0.6634284471443584\n",
            "--- 338.56606793403625 seconds ---\n",
            "\n",
            "terminated after 1776803 iterations, with norm of the gradient equal to 20.692051431109533\n",
            "g = [ 0.34841185 14.29100316 11.04140335  4.95108015  6.32211268  5.1034993\n",
            "  0.04676232  3.36754155  0.15398359]\n",
            "w = [ 1.33538862e-01  2.77450495e-02 -2.34653153e-02 -2.75590323e-03\n",
            " -9.86717462e-05  3.41157742e-02  5.06280322e-01  2.00828482e-03\n",
            " -4.20415533e+00]\n",
            "batch_size = 4\n",
            "accuracy = 0.73\n",
            "err = 0.5138983523455167\n",
            "--- 356.56127166748047 seconds ---\n",
            "\n",
            "terminated after 1871348 iterations, with norm of the gradient equal to 46.69884734282198\n",
            "g = [ -0.11050723 -31.37344751 -13.61203052 -10.42689461 -28.58361337\n",
            "  -8.02812761  -0.08833762  -4.57611769  -0.21673356]\n",
            "w = [ 1.24636180e-01  2.59690694e-02 -1.93757203e-02 -4.54536899e-03\n",
            "  9.68463650e-04  3.08234806e-02  5.56381432e-01 -1.25737326e-03\n",
            " -4.13150461e+00]\n",
            "batch_size = 8\n",
            "accuracy = 0.76\n",
            "err = 0.568493561140325\n",
            "--- 374.82285046577454 seconds ---\n",
            "\n",
            "terminated after 1824590 iterations, with norm of the gradient equal to 23.703325690229555\n",
            "g = [ 0.79290363 13.06646684 10.70006959  5.81421462 13.31959986  5.29922789\n",
            "  0.08699449  6.05497141  0.16128348]\n",
            "w = [ 1.25932798e-01  2.56664890e-02 -2.01111133e-02 -4.43116610e-03\n",
            " -1.80179130e-04  3.26858014e-02  6.78114110e-01  5.33488217e-04\n",
            " -4.15310745e+00]\n",
            "batch_size = 16\n",
            "accuracy = 0.75\n",
            "err = 0.5133237898488204\n",
            "--- 368.19482684135437 seconds ---\n",
            "\n",
            "terminated after 1770206 iterations, with norm of the gradient equal to 9.645926029840272\n",
            "g = [ 4.18853192e-01  8.04969410e+00  1.77564541e+00  8.17189142e-02\n",
            " -3.51105985e+00  2.33191030e+00 -4.20233138e-03  2.67171188e+00\n",
            "  8.87264147e-02]\n",
            "w = [ 1.24945136e-01  2.43553893e-02 -1.93455398e-02 -2.90320086e-03\n",
            "  5.84994380e-04  3.35336559e-02  5.87211283e-01 -6.63412569e-04\n",
            " -4.09458139e+00]\n",
            "batch_size = 32\n",
            "accuracy = 0.77\n",
            "err = 0.5001287143811634\n",
            "--- 359.28933811187744 seconds ---\n",
            "\n",
            "terminated after 1741897 iterations, with norm of the gradient equal to 12.496788516489389\n",
            "g = [-7.12422245e-02 -7.69595299e-01 -2.68443726e+00 -2.29416993e+00\n",
            " -1.19501945e+01 -5.40801014e-01 -4.53832209e-02 -3.56928687e-02\n",
            "  2.14939976e-03]\n",
            "w = [ 1.18498245e-01  2.48452773e-02 -1.93984564e-02 -5.26070981e-03\n",
            "  8.51851071e-04  3.37568791e-02  5.73132212e-01  2.48569843e-03\n",
            " -4.11948954e+00]\n",
            "batch_size = 64\n",
            "accuracy = 0.74\n",
            "err = 0.5018816656225773\n",
            "--- 356.85560297966003 seconds ---\n",
            "\n",
            "terminated after 1719408 iterations, with norm of the gradient equal to 5.343384741031887\n",
            "g = [0.08198274 1.1079008  1.77262982 1.11174118 4.57241176 0.55124797\n",
            " 0.0233104  1.31424884 0.02816368]\n",
            "w = [ 1.21494731e-01  2.41534469e-02 -1.83492207e-02 -2.22433148e-03\n",
            "  1.75497375e-04  3.45242298e-02  5.00335281e-01  2.33641478e-04\n",
            " -4.08897816e+00]\n",
            "batch_size = 128\n",
            "accuracy = 0.77\n",
            "err = 0.50027121437631\n",
            "--- 359.82133769989014 seconds ---\n",
            "\n",
            "terminated after 1727648 iterations, with norm of the gradient equal to 6.77500513691083\n",
            "g = [0.15577051 4.80373574 2.71826014 0.82458892 3.27326025 1.11821761\n",
            " 0.01062489 1.66261516 0.05121233]\n",
            "w = [ 1.13291379e-01  2.31880613e-02 -1.60879432e-02 -1.28232746e-03\n",
            "  4.26785704e-04  3.29590150e-02  4.29403997e-01  1.77797460e-03\n",
            " -4.13986739e+00]\n",
            "batch_size = 256\n",
            "accuracy = 0.77\n",
            "err = 0.5002706149316535\n",
            "--- 414.10968375205994 seconds ---\n",
            "\n",
            "terminated after 1756485 iterations, with norm of the gradient equal to 3.9463093402487974\n",
            "g = [-0.13667039 -3.06081138 -1.06360956 -0.30387793 -1.94856156 -0.79879755\n",
            " -0.01559367 -0.72609793 -0.00861316]\n",
            "w = [ 1.01867435e-01  2.31756072e-02 -1.32369880e-02  6.39026978e-04\n",
            "  5.33425365e-04  2.95426833e-02  3.46577374e-01  4.18887822e-03\n",
            " -4.24036315e+00]\n",
            "batch_size = 512\n",
            "accuracy = 0.78\n",
            "err = 0.5007314212683083\n",
            "--- 388.91294527053833 seconds ---\n",
            "\n",
            "terminated after 1727364 iterations, with norm of the gradient equal to 0.015113534222393091\n",
            "g = [-2.78703236e-05 -4.23623846e-05 -3.13575478e-05  3.20784177e-06\n",
            "  3.72441583e-06 -1.68219530e-04 -1.26959926e-03 -4.20846419e-05\n",
            "  1.50589969e-02]\n",
            "w = [ 1.28344962e-01  2.39352468e-02 -1.94709856e-02 -2.44309330e-03\n",
            "  5.07614670e-04  3.69668799e-02  4.91313543e-01 -3.99344381e-04\n",
            " -4.07534808e+00]\n",
            "batch_size = 600\n",
            "accuracy = 0.77\n",
            "err = 0.5000000167095799\n",
            "--- 370.99066257476807 seconds ---\n",
            "\n",
            "best validation accuracy : 0.780 found with batch_size = 512\n"
          ]
        }
      ]
    },
    {
      "cell_type": "code",
      "metadata": {
        "id": "BPnn_7x17MTN",
        "colab": {
          "base_uri": "https://localhost:8080/",
          "height": 392
        },
        "outputId": "202fe2bc-9fba-4de1-8711-2803f9e3e569"
      },
      "source": [
        "# Plot the score\n",
        "plt.figure(figsize=(10,6))\n",
        "plt.plot(batch_list, err_list)\n",
        "# plt.plot(batch_list, val_acc_list)\n",
        "ax = plt.gca()\n",
        "ax.set_xscale('log',basex=2)\n",
        "plt.xlabel(\"Batch Size\")\n",
        "plt.ylabel(\"Loss\")\n",
        "plt.legend([\"training\", \"validation\"])\n",
        "plt.savefig(\"batch size 1\")"
      ],
      "execution_count": null,
      "outputs": [
        {
          "output_type": "display_data",
          "data": {
            "image/png": "[encoded data removed]",
            "text/plain": [
              "<Figure size 720x432 with 1 Axes>"
            ]
          },
          "metadata": {
            "needs_background": "light"
          }
        }
      ]
    },
    {
      "cell_type": "code",
      "metadata": {
        "colab": {
          "base_uri": "https://localhost:8080/",
          "height": 392
        },
        "id": "J17e7MTNMrT1",
        "outputId": "8af44886-b0b1-4e94-d76b-531d389ac3eb"
      },
      "source": [
        "# Plot the score\n",
        "plt.figure(figsize=(10,6))\n",
        "plt.plot(batch_list, acc_list)\n",
        "plt.plot(batch_list, val_acc_list)\n",
        "ax = plt.gca()\n",
        "ax.set_xscale('log',basex=2)\n",
        "plt.xlabel(\"Batch Size\")\n",
        "plt.ylabel(\"Acc\")\n",
        "plt.legend([\"training\", \"validation\"])\n",
        "plt.savefig(\"batch size 2\")"
      ],
      "execution_count": null,
      "outputs": [
        {
          "output_type": "display_data",
          "data": {
            "image/png": "[encoded data removed]",
            "text/plain": [
              "<Figure size 720x432 with 1 Axes>"
            ]
          },
          "metadata": {
            "needs_background": "light"
          }
        }
      ]
    },
    {
      "cell_type": "code",
      "metadata": {
        "id": "mhfDz6slK19X",
        "colab": {
          "base_uri": "https://localhost:8080/",
          "height": 392
        },
        "outputId": "eb06ba1e-bb4c-461e-f83f-c5ec2e978ebe"
      },
      "source": [
        "# Plot the score\n",
        "plt.figure(figsize=(10,6))\n",
        "plt.plot(batch_list, time_list)\n",
        "# plt.plot(batch_list, val_acc_list)\n",
        "ax = plt.gca()\n",
        "ax.set_xscale('log',basex=2)\n",
        "plt.xlabel(\"Batch Size\")\n",
        "plt.ylabel(\"Converge time\")\n",
        "plt.legend([\"training\", \"validation\"])\n",
        "plt.savefig(\"batch size 3\")"
      ],
      "execution_count": null,
      "outputs": [
        {
          "output_type": "display_data",
          "data": {
            "image/png": "[encoded data removed]",
            "text/plain": [
              "<Figure size 720x432 with 1 Axes>"
            ]
          },
          "metadata": {
            "needs_background": "light"
          }
        }
      ]
    },
    {
      "cell_type": "code",
      "metadata": {
        "colab": {
          "base_uri": "https://localhost:8080/",
          "height": 403
        },
        "id": "4Dzw_XxGgkNg",
        "outputId": "0e8ffe11-f438-49e3-b2f7-d7135ee8ddf3"
      },
      "source": [
        "# Plot the score\n",
        "plt.figure(figsize=(10,6))\n",
        "plt.plot(batch_list, epoch_list)\n",
        "# plt.plot(batch_list, val_acc_list)\n",
        "ax = plt.gca()\n",
        "ax.set_xscale('log',basex=2)\n",
        "plt.xlabel(\"Batch Size\")\n",
        "plt.ylabel(\"Converge itr\")\n",
        "plt.legend([\"training\", \"validation\"])\n",
        "plt.savefig(\"batch size 4\")"
      ],
      "execution_count": null,
      "outputs": [
        {
          "output_type": "display_data",
          "data": {
            "image/png": "[encoded data removed]",
            "text/plain": [
              "<Figure size 720x432 with 1 Axes>"
            ]
          },
          "metadata": {
            "needs_background": "light"
          }
        }
      ]
    },
    {
      "cell_type": "markdown",
      "metadata": {
        "id": "FSOSTG4ngMXM"
      },
      "source": [
        "## 5). Gradiant descent with momentum\n",
        "###**Gradient Function with Momentum**\n",
        "To help with the oscillations, we use a **running average** \n",
        "of gradients and more recent gradients should have higher weights.\n",
        "Then, we get the formula:\n",
        "\n",
        "$$\n",
        "dw^{[T]} = \\beta dw^{[t-1]}+(1-\\beta)\\frac{\\partial}{\\partial w} J(w^{[t]})\n",
        "$$\n",
        "\n",
        "to calculate the step size for gradiant descent.\n",
        "\n",
        "\n"
      ]
    },
    {
      "cell_type": "code",
      "metadata": {
        "id": "hk_PEp8AgMXN"
      },
      "source": [
        "def mom_gradient(self, x, y):\n",
        "    N,D = x.shape\n",
        "    yh = logistic(np.dot(x, self.w))    # predictions size N\n",
        "    cur_grad = np.dot(x.T, yh - y)/N   # divide by N because cost is mean over N points\n",
        "\n",
        "    grad = np.dot(self.beta, self.prev_g) + np.dot((1 - self.beta), cur_grad)\n",
        "\n",
        "    return grad                # size D\n",
        "\n",
        "LogisticRegression.gradient = mom_gradient"
      ],
      "execution_count": null,
      "outputs": []
    },
    {
      "cell_type": "markdown",
      "metadata": {
        "id": "0jFhAUtygMXN"
      },
      "source": [
        "### Test different beta with regular gradient descent"
      ]
    },
    {
      "cell_type": "code",
      "metadata": {
        "colab": {
          "base_uri": "https://localhost:8080/"
        },
        "id": "ZMggAqqL9VeE",
        "outputId": "8b24a163-bea6-4610-c933-ea2d9c118d5e"
      },
      "source": [
        "# Specify a list of impurity decrease we want to test\n",
        "best_acc = 0\n",
        "best_cfg = 0\n",
        "best_itr = np.Inf\n",
        "#b_list = [0.8, 0.81, 0.82, 0.83, 0.84, 0.85, 0.86, 0.87, 0.88, 0.89, \n",
        "#            0.9, 0.91, 0.92, 0.93, 0.94, 0.95, 0.96, 0.97, 0.98, 0.99]\n",
        "\n",
        "b_list = [0, 0.2, 0.4, 0.6, 0.8, 0.9]\n",
        "acc_list = []\n",
        "val_acc_list = []\n",
        "time_list = []\n",
        "err_list = []\n",
        "\n",
        "for b in b_list:\n",
        "  start_time = time.time()\n",
        "  \n",
        "  model = LogisticRegression(add_bias=True, learning_rate=0.0001, epsilon=0.0001, max_iters=2e6, verbose=True, beta=b, batch_size=600, err_specified=0.55)  \n",
        "\n",
        "  # Predict the result on the training set\n",
        "  model = model.fit_minibatch(X,y)\n",
        "  yh = np.rint( model.predict(X) )\n",
        "  yh_val = np.rint( model.predict(X_val) )\n",
        "  \n",
        "  temp_time = time.time() - start_time\n",
        "  \n",
        "  # Report the accuracy\n",
        "  acc = (y == yh).sum() / y.size\n",
        "  acc_val = (y_val == yh_val).sum() / y_val.size\n",
        "\n",
        "  print(\"accuracy = \"+str(acc_val))\n",
        "  print(\"beta = \" + str(b))\n",
        "  print(\"err = \" + str(model.err))\n",
        "  print(\"--- %s seconds ---\" % (temp_time))\n",
        "  print()\n",
        "\n",
        "  acc_list.append(acc)\n",
        "  val_acc_list.append(acc_val)\n",
        "  time_list.append(model.t)\n",
        "  err_list.append(model.err)\n",
        "\n",
        "  # Keep track of the smallest number of iterations and its configuation\n",
        "  if best_itr > model.t:\n",
        "    best_itr = model.t\n",
        "    best_cfg = b\n",
        "    best_acc = acc_val\n",
        "\n",
        "print(f'The smallest number of iterations is: {best_itr} found with beta = {best_cfg} with validation accuracy: {best_acc:.3f}')"
      ],
      "execution_count": null,
      "outputs": [
        {
          "output_type": "stream",
          "name": "stdout",
          "text": [
            "terminated after 545229 iterations, with norm of the gradient equal to 0.02695500169379509\n",
            "g = [ 4.43707389e-05 -6.79857384e-05 -7.87238456e-05  1.00494262e-05\n",
            "  7.25549163e-06 -2.77779149e-04 -3.18090480e-03 -8.23813605e-05\n",
            "  2.67648477e-02]\n",
            "w = [ 1.27977775e-01  1.74641965e-02 -2.53626965e-02 -1.80978616e-03\n",
            "  1.12665187e-03  1.12730294e-02  2.63627195e-01 -7.47357877e-03\n",
            " -1.68872744e+00]\n",
            "accuracy = 0.72\n",
            "beta = 0\n",
            "err = 0.5500000018066595\n",
            "--- 120.43315482139587 seconds ---\n",
            "\n",
            "terminated after 545229 iterations, with norm of the gradient equal to 0.02695500786119001\n",
            "g = [ 4.43707714e-05 -6.79857514e-05 -7.87238698e-05  1.00494295e-05\n",
            "  7.25549337e-06 -2.77779210e-04 -3.18090570e-03 -8.23813803e-05\n",
            "  2.67648538e-02]\n",
            "w = [ 1.27977776e-01  1.74641952e-02 -2.53626980e-02 -1.80978609e-03\n",
            "  1.12665200e-03  1.12730241e-02  2.63627174e-01 -7.47358041e-03\n",
            " -1.68872695e+00]\n",
            "accuracy = 0.72\n",
            "beta = 0.2\n",
            "err = 0.5500000150145685\n",
            "--- 120.13374781608582 seconds ---\n",
            "\n",
            "terminated after 545229 iterations, with norm of the gradient equal to 0.02695501814141952\n",
            "g = [ 4.43708256e-05 -6.79857731e-05 -7.87239102e-05  1.00494350e-05\n",
            "  7.25549627e-06 -2.77779311e-04 -3.18090721e-03 -8.23814132e-05\n",
            "  2.67648640e-02]\n",
            "w = [ 1.27977778e-01  1.74641931e-02 -2.53627004e-02 -1.80978597e-03\n",
            "  1.12665221e-03  1.12730152e-02  2.63627138e-01 -7.47358314e-03\n",
            " -1.68872613e+00]\n",
            "accuracy = 0.72\n",
            "beta = 0.4\n",
            "err = 0.5500000370342563\n",
            "--- 120.34404253959656 seconds ---\n",
            "\n",
            "terminated after 545230 iterations, with norm of the gradient equal to 0.02695502434739445\n",
            "g = [ 4.43708016e-05 -6.79857959e-05 -7.87239162e-05  1.00494304e-05\n",
            "  7.25549753e-06 -2.77779391e-04 -3.18090621e-03 -8.23814346e-05\n",
            "  2.67648703e-02]\n",
            "w = [ 1.27977777e-01  1.74641956e-02 -2.53626975e-02 -1.80978674e-03\n",
            "  1.12665191e-03  1.12730253e-02  2.63627384e-01 -7.47358036e-03\n",
            " -1.68872717e+00]\n",
            "accuracy = 0.72\n",
            "beta = 0.6\n",
            "err = 0.5500000084283926\n",
            "--- 120.10328412055969 seconds ---\n",
            "\n",
            "terminated after 545231 iterations, with norm of the gradient equal to 0.02695507169236417\n",
            "g = [ 4.43709950e-05 -6.79859056e-05 -7.87240838e-05  1.00494477e-05\n",
            "  7.25551039e-06 -2.77779875e-04 -3.18091123e-03 -8.23815879e-05\n",
            "  2.67649174e-02]\n",
            "w = [ 1.27977785e-01  1.74641897e-02 -2.53627042e-02 -1.80978703e-03\n",
            "  1.12665245e-03  1.12729998e-02  2.63627487e-01 -7.47358852e-03\n",
            " -1.68872493e+00]\n",
            "accuracy = 0.72\n",
            "beta = 0.8\n",
            "err = 0.5500000679981298\n",
            "--- 120.26822519302368 seconds ---\n",
            "\n",
            "terminated after 545235 iterations, with norm of the gradient equal to 0.026955137720294044\n",
            "g = [ 4.43711180e-05 -6.79860840e-05 -7.87242698e-05  1.00494508e-05\n",
            "  7.25552704e-06 -2.77780599e-04 -3.18091317e-03 -8.23818061e-05\n",
            "  2.67649837e-02]\n",
            "w = [ 1.27977791e-01  1.74641913e-02 -2.53627020e-02 -1.80978963e-03\n",
            "  1.12665209e-03  1.12730042e-02  2.63628331e-01 -7.47358841e-03\n",
            " -1.68872580e+00]\n",
            "accuracy = 0.72\n",
            "beta = 0.9\n",
            "err = 0.5500000420936741\n",
            "--- 119.88377904891968 seconds ---\n",
            "\n",
            "The smallest number of iterations is: 545229 found with beta = 0 with validation accuracy: 0.720\n"
          ]
        }
      ]
    },
    {
      "cell_type": "code",
      "metadata": {
        "colab": {
          "base_uri": "https://localhost:8080/",
          "height": 406
        },
        "id": "wrKGHYxV9VeE",
        "outputId": "a4eaf9a4-1c8a-4003-84a6-e1bebf0bc88a"
      },
      "source": [
        "# Plot the score\n",
        "plt.figure(figsize=(10,6))\n",
        "\n",
        "plt.plot(b_list, acc_list)\n",
        "plt.plot(b_list, val_acc_list)\n",
        "ax = plt.gca()\n",
        "ax.set_xscale('log')\n",
        "\n",
        "plt.xlabel(\"Beta\")\n",
        "plt.ylabel(\"Accuracy\")\n",
        "plt.title(\"Accuracy varies with different beta with batch_size=1\")\n",
        "plt.legend([\"training\", \"validation\"])\n",
        "plt.savefig(\"beta_size_full\")\n",
        "plt.show()"
      ],
      "execution_count": null,
      "outputs": [
        {
          "output_type": "display_data",
          "data": {
            "image/png": "[encoded data removed]",
            "text/plain": [
              "<Figure size 720x432 with 1 Axes>"
            ]
          },
          "metadata": {
            "needs_background": "light"
          }
        }
      ]
    },
    {
      "cell_type": "code",
      "metadata": {
        "colab": {
          "base_uri": "https://localhost:8080/",
          "height": 406
        },
        "id": "LM7RjNUx9VeE",
        "outputId": "953ccf3f-9071-4087-e957-029a6324ea5a"
      },
      "source": [
        "# Plot the score\n",
        "plt.figure(figsize=(10,6))\n",
        "\n",
        "plt.plot(b_list, time_list)\n",
        "ax = plt.gca()\n",
        "ax.set_xscale('log')\n",
        "ax.set_yscale('log')\n",
        "\n",
        "plt.xlabel(\"Beta\")\n",
        "plt.ylabel(\"Iteration\")\n",
        "plt.title(\"time cost varies with different beta with batch_size=1\")\n",
        "plt.savefig(\"time_beta_size_full\")\n",
        "plt.show()"
      ],
      "execution_count": null,
      "outputs": [
        {
          "output_type": "display_data",
          "data": {
            "image/png": "[encoded data removed]",
            "text/plain": [
              "<Figure size 720x432 with 1 Axes>"
            ]
          },
          "metadata": {
            "needs_background": "light"
          }
        }
      ]
    },
    {
      "cell_type": "markdown",
      "metadata": {
        "id": "QyYDOtx336Qc"
      },
      "source": [
        "## 6). Gradient Descent with Different Batch Size and Momentum"
      ]
    },
    {
      "cell_type": "markdown",
      "metadata": {
        "id": "lo8yfOCq36Qc"
      },
      "source": [
        "### **Batch Size = 2**"
      ]
    },
    {
      "cell_type": "code",
      "metadata": {
        "colab": {
          "base_uri": "https://localhost:8080/"
        },
        "id": "fqPwXXJe36Qc",
        "outputId": "3bc8e24e-94ad-4f43-ecd9-3b19a9b8f162"
      },
      "source": [
        "# Specify a list of impurity decrease we want to test\n",
        "best_acc = 0\n",
        "best_cfg = 0\n",
        "best_itr = np.Inf\n",
        "#b_list = [0.8, 0.81, 0.82, 0.83, 0.84, 0.85, 0.86, 0.87, 0.88, 0.89, \n",
        "#            0.9, 0.91, 0.92, 0.93, 0.94, 0.95, 0.96, 0.97, 0.98, 0.99]\n",
        "\n",
        "b_list = [0, 0.2, 0.4, 0.6, 0.8, 0.9]\n",
        "acc_list = []\n",
        "val_acc_list = []\n",
        "time_list = []\n",
        "err_list = []\n",
        "\n",
        "for b in b_list:\n",
        "  start_time = time.time()\n",
        "  \n",
        "  model = LogisticRegression(add_bias=True, learning_rate=0.0001, epsilon=0.0001, max_iters=2e6, verbose=True, beta=b, batch_size=2, err_specified=0.55)  \n",
        "\n",
        "  # Predict the result on the training set\n",
        "  model = model.fit_minibatch(X,y)\n",
        "  yh = np.rint( model.predict(X) )\n",
        "  yh_val = np.rint( model.predict(X_val) )\n",
        "  \n",
        "  temp_time = time.time() - start_time\n",
        "  \n",
        "  # Report the accuracy\n",
        "  acc = (y == yh).sum() / y.size\n",
        "  acc_val = (y_val == yh_val).sum() / y_val.size\n",
        "\n",
        "  print(\"accuracy = \"+str(acc_val))\n",
        "  print(\"beta = \" + str(b))\n",
        "  print(\"err = \" + str(model.err))\n",
        "  print(\"--- %s seconds ---\" % (temp_time))\n",
        "  print()\n",
        "\n",
        "  acc_list.append(acc)\n",
        "  val_acc_list.append(acc_val)\n",
        "  time_list.append(model.t)\n",
        "  err_list.append(model.err)\n",
        "\n",
        "  # Keep track of the smallest number of iterations and its configuation\n",
        "  if best_itr > model.t:\n",
        "    best_itr = model.t\n",
        "    best_cfg = b\n",
        "    best_acc = acc_val\n",
        "\n",
        "print(f'The smallest number of iterations is: {best_itr} found with beta = {best_cfg} with validation accuracy: {best_acc:.3f}')"
      ],
      "execution_count": null,
      "outputs": [
        {
          "output_type": "stream",
          "name": "stdout",
          "text": [
            "terminated after 593934 iterations, with norm of the gradient equal to 75.18791943063128\n",
            "g = [ -1.21349739 -54.11885499 -32.21895051  -9.29110929 -35.8645756\n",
            " -11.85394832  -0.13108619 -13.09732282  -0.41686984]\n",
            "w = [ 1.60083471e-01  1.78265639e-02 -2.86186065e-02  3.22530223e-03\n",
            "  1.38853470e-03  1.26710286e-02  3.59762365e-01 -1.20189357e-02\n",
            " -1.76761074e+00]\n",
            "accuracy = 0.73\n",
            "beta = 0\n",
            "err = 0.736181275888271\n",
            "--- 101.35755944252014 seconds ---\n",
            "\n",
            "terminated after 600052 iterations, with norm of the gradient equal to 20.484509383184957\n",
            "g = [ -0.56436826 -12.41515608  -7.58477881  -8.02384174 -10.64540576\n",
            "  -5.34881061  -0.16637611  -1.12714237  -0.13052621]\n",
            "w = [ 1.57747527e-01  1.78391528e-02 -3.04876357e-02 -3.45434746e-03\n",
            "  9.09185440e-04  1.53384066e-02  3.22166993e-01 -4.81299449e-03\n",
            " -1.78464058e+00]\n",
            "accuracy = 0.73\n",
            "beta = 0.2\n",
            "err = 0.5698567180966643\n",
            "--- 102.39545392990112 seconds ---\n",
            "\n",
            "terminated after 631852 iterations, with norm of the gradient equal to 12.489497661667407\n",
            "g = [ 0.19363615  7.00882096  4.34232585 -1.1769931   8.12377092  0.21406408\n",
            " -0.0283855   4.53223984  0.04356611]\n",
            "w = [ 1.58210580e-01  1.86798477e-02 -2.94508353e-02 -2.73769130e-03\n",
            " -8.77315446e-05  1.49558201e-02  2.76100214e-01 -3.67125979e-03\n",
            " -1.85644154e+00]\n",
            "accuracy = 0.72\n",
            "beta = 0.4\n",
            "err = 0.5505860501169532\n",
            "--- 107.60998106002808 seconds ---\n",
            "\n",
            "terminated after 691897 iterations, with norm of the gradient equal to 16.179232573434366\n",
            "g = [ 0.66231683  1.93290873  3.86341531 -2.40167093 15.14458323  1.03125181\n",
            "  0.03817032  2.5435567   0.07580637]\n",
            "w = [ 1.53606082e-01  2.25508822e-02 -3.47702275e-02 -4.18566375e-04\n",
            "  2.16202415e-03  1.11633153e-02  2.38122347e-01 -2.99714190e-03\n",
            " -1.96835860e+00]\n",
            "accuracy = 0.7\n",
            "beta = 0.6\n",
            "err = 0.5623856901540127\n",
            "--- 117.98450875282288 seconds ---\n",
            "\n",
            "terminated after 610158 iterations, with norm of the gradient equal to 42.05438517263702\n",
            "g = [-5.96469248e-01 -8.98715475e+00 -5.68026758e+00  3.15915011e-02\n",
            " -4.02607277e+01 -2.42719057e+00 -4.18859092e-02 -5.32519400e+00\n",
            " -5.70336716e-02]\n",
            "w = [ 1.36186320e-01  1.94867721e-02 -2.74248154e-02 -3.21315633e-03\n",
            "  1.34821133e-03  5.24053785e-03  2.41893135e-01 -5.36348701e-03\n",
            " -1.74046671e+00]\n",
            "accuracy = 0.71\n",
            "beta = 0.8\n",
            "err = 0.6018360491190803\n",
            "--- 103.96710395812988 seconds ---\n",
            "\n",
            "terminated after 605961 iterations, with norm of the gradient equal to 18.328702181194174\n",
            "g = [ -0.21056014  -4.5752849   -5.54164816  -1.33418903 -16.32807375\n",
            "  -1.99033049  -0.06808812  -3.44979467  -0.02653869]\n",
            "w = [ 1.33540215e-01  1.65026109e-02 -2.34227722e-02 -3.01618025e-03\n",
            "  1.59625367e-03  6.75312426e-03  3.81678679e-01 -7.76400474e-03\n",
            " -1.72008701e+00]\n",
            "accuracy = 0.7\n",
            "beta = 0.9\n",
            "err = 0.5628709390641531\n",
            "--- 103.20901322364807 seconds ---\n",
            "\n",
            "The smallest number of iterations is: 593934 found with beta = 0 with validation accuracy: 0.730\n"
          ]
        }
      ]
    },
    {
      "cell_type": "code",
      "metadata": {
        "colab": {
          "base_uri": "https://localhost:8080/",
          "height": 406
        },
        "id": "J-8pvfQU36Qc",
        "outputId": "88d8e33e-58f3-489b-8558-9784a2873c7d"
      },
      "source": [
        "# Plot the score\n",
        "plt.figure(figsize=(10,6))\n",
        "\n",
        "plt.plot(b_list, acc_list)\n",
        "plt.plot(b_list, val_acc_list)\n",
        "ax = plt.gca()\n",
        "ax.set_xscale('log')\n",
        "\n",
        "plt.xlabel(\"Beta\")\n",
        "plt.ylabel(\"Accuracy\")\n",
        "plt.title(\"Accuracy varies with different beta with batch_size=2\")\n",
        "plt.legend([\"training\", \"validation\"])\n",
        "plt.savefig(\"beta_size_2\")\n",
        "plt.show()"
      ],
      "execution_count": null,
      "outputs": [
        {
          "output_type": "display_data",
          "data": {
            "image/png": "[encoded data removed]",
            "text/plain": [
              "<Figure size 720x432 with 1 Axes>"
            ]
          },
          "metadata": {
            "needs_background": "light"
          }
        }
      ]
    },
    {
      "cell_type": "code",
      "metadata": {
        "colab": {
          "base_uri": "https://localhost:8080/",
          "height": 406
        },
        "id": "4xufClMA36Qd",
        "outputId": "b0374352-2d89-4fae-d075-12b5aabab511"
      },
      "source": [
        "# Plot the score\n",
        "plt.figure(figsize=(10,6))\n",
        "\n",
        "plt.plot(b_list, time_list)\n",
        "ax = plt.gca()\n",
        "ax.set_xscale('log')\n",
        "ax.set_yscale('log')\n",
        "\n",
        "plt.xlabel(\"Beta\")\n",
        "plt.ylabel(\"Iteration\")\n",
        "plt.title(\"time cost varies with different beta with batch_size=2\")\n",
        "plt.savefig(\"time_beta_size_2\")\n",
        "plt.show()"
      ],
      "execution_count": null,
      "outputs": [
        {
          "output_type": "display_data",
          "data": {
            "image/png": "[encoded data removed]",
            "text/plain": [
              "<Figure size 720x432 with 1 Axes>"
            ]
          },
          "metadata": {
            "needs_background": "light"
          }
        }
      ]
    },
    {
      "cell_type": "markdown",
      "metadata": {
        "id": "9cxqfVjF36Qd"
      },
      "source": [
        "### **Largest Batch Size**"
      ]
    },
    {
      "cell_type": "code",
      "metadata": {
        "colab": {
          "base_uri": "https://localhost:8080/"
        },
        "id": "Y1AAmvuD36Qd",
        "outputId": "1ed4a774-4e39-4c6a-8503-eeed81e9eb2f"
      },
      "source": [
        "# Specify a list of impurity decrease we want to test\n",
        "best_acc = 0\n",
        "best_cfg = 0\n",
        "best_itr = np.Inf\n",
        "#b_list = [0.8, 0.81, 0.82, 0.83, 0.84, 0.85, 0.86, 0.87, 0.88, 0.89, \n",
        "#            0.9, 0.91, 0.92, 0.93, 0.94, 0.95, 0.96, 0.97, 0.98, 0.99]\n",
        "\n",
        "b_list = [0, 0.2, 0.4, 0.6, 0.8, 0.9]\n",
        "acc_list = []\n",
        "val_acc_list = []\n",
        "time_list = []\n",
        "err_list = []\n",
        "\n",
        "for b in b_list:\n",
        "  start_time = time.time()\n",
        "  \n",
        "  model = LogisticRegression(add_bias=True, learning_rate=0.0001, epsilon=0.0001, max_iters=2e6, verbose=True, beta=b, batch_size=512, err_specified=0.55)  \n",
        "\n",
        "  # Predict the result on the training set\n",
        "  model = model.fit_minibatch(X,y)\n",
        "  yh = np.rint( model.predict(X) )\n",
        "  yh_val = np.rint( model.predict(X_val) )\n",
        "  \n",
        "  temp_time = time.time() - start_time\n",
        "  \n",
        "  # Report the accuracy\n",
        "  acc = (y == yh).sum() / y.size\n",
        "  acc_val = (y_val == yh_val).sum() / y_val.size\n",
        "\n",
        "  print(\"accuracy = \"+str(acc_val))\n",
        "  print(\"beta = \" + str(b))\n",
        "  print(\"err = \" + str(model.err))\n",
        "  print(\"--- %s seconds ---\" % (temp_time))\n",
        "  print()\n",
        "\n",
        "  acc_list.append(acc)\n",
        "  val_acc_list.append(acc_val)\n",
        "  time_list.append(model.t)\n",
        "  err_list.append(model.err)\n",
        "\n",
        "  # Keep track of the smallest number of iterations and its configuation\n",
        "  if best_itr > model.t:\n",
        "    best_itr = model.t\n",
        "    best_cfg = b\n",
        "    best_acc = acc_val\n",
        "\n",
        "print(f'The smallest number of iterations is: {best_itr} found with beta = {best_cfg} with validation accuracy: {best_acc:.3f}')"
      ],
      "execution_count": null,
      "outputs": [
        {
          "output_type": "stream",
          "name": "stdout",
          "text": [
            "terminated after 565859 iterations, with norm of the gradient equal to 6.046116716128321\n",
            "g = [-0.17948442 -4.42977501 -1.81722699 -0.65367151 -3.26959441 -1.17304768\n",
            " -0.02246951 -1.05069887 -0.00664871]\n",
            "w = [ 1.00546266e-01  1.64746192e-02 -1.91785553e-02 -3.00443643e-04\n",
            "  1.28502228e-03  2.41023089e-03  1.56251802e-01 -2.40042364e-03\n",
            " -1.78430731e+00]\n",
            "accuracy = 0.73\n",
            "beta = 0\n",
            "err = 0.5516420970335623\n",
            "--- 104.2164740562439 seconds ---\n",
            "\n",
            "terminated after 569143 iterations, with norm of the gradient equal to 3.423005933912434\n",
            "g = [-0.10819195 -2.56535164 -1.00496726 -0.36821512 -1.77464472 -0.68559875\n",
            " -0.01415138 -0.59918919  0.00748688]\n",
            "w = [ 1.00031734e-01  1.63368119e-02 -1.91858534e-02 -4.96311360e-04\n",
            "  1.22272800e-03  2.44690999e-03  1.67386651e-01 -2.31361752e-03\n",
            " -1.78842769e+00]\n",
            "accuracy = 0.73\n",
            "beta = 0.2\n",
            "err = 0.5509428088791242\n",
            "--- 103.85979628562927 seconds ---\n",
            "\n",
            "terminated after 571759 iterations, with norm of the gradient equal to 1.9887498436172582\n",
            "g = [-0.06550104 -1.51246738 -0.57328628 -0.21300523 -1.00064045 -0.40680822\n",
            " -0.00935895 -0.34949811  0.01545444]\n",
            "w = [ 9.97478217e-02  1.62673347e-02 -1.91856100e-02 -6.02196843e-04\n",
            "  1.19037901e-03  2.48971181e-03  1.73597076e-01 -2.26029418e-03\n",
            " -1.79291215e+00]\n",
            "accuracy = 0.71\n",
            "beta = 0.4\n",
            "err = 0.5505517026527614\n",
            "--- 103.92483949661255 seconds ---\n",
            "\n",
            "terminated after 573709 iterations, with norm of the gradient equal to 1.0828805446225986\n",
            "g = [-0.03670838 -0.83191056 -0.30762217 -0.11555186 -0.53274034 -0.22487774\n",
            " -0.00621369 -0.19073224  0.02059831]\n",
            "w = [ 9.95665541e-02  1.62254899e-02 -1.91838755e-02 -6.68400565e-04\n",
            "  1.17077987e-03  2.52492400e-03  1.77553662e-01 -2.22449830e-03\n",
            " -1.79654966e+00]\n",
            "accuracy = 0.71\n",
            "beta = 0.6\n",
            "err = 0.5503016209983255\n",
            "--- 103.64614582061768 seconds ---\n",
            "\n",
            "terminated after 575187 iterations, with norm of the gradient equal to 0.45834203369989523\n",
            "g = [-0.01584561 -0.35433723 -0.12854401 -0.04870333 -0.22132191 -0.09626268\n",
            " -0.00398008 -0.08077298  0.02420494]\n",
            "w = [ 9.94403159e-02  1.61975016e-02 -1.91819574e-02 -7.13670987e-04\n",
            "  1.15771349e-03  2.55281146e-03  1.80293316e-01 -2.19887414e-03\n",
            " -1.79941428e+00]\n",
            "accuracy = 0.71\n",
            "beta = 0.8\n",
            "err = 0.5501279069974959\n",
            "--- 103.8743155002594 seconds ---\n",
            "\n",
            "terminated after 575799 iterations, with norm of the gradient equal to 0.21407718441534918\n",
            "g = [-0.00740962 -0.16501445 -0.05940264 -0.02258318 -0.10198369 -0.04503804\n",
            " -0.0030879  -0.03754946  0.02563401]\n",
            "w = [ 9.93904806e-02  1.61867143e-02 -1.91810388e-02 -7.31325933e-04\n",
            "  1.15270054e-03  2.56455191e-03  1.81369809e-01 -2.18861582e-03\n",
            " -1.80061726e+00]\n",
            "accuracy = 0.71\n",
            "beta = 0.9\n",
            "err = 0.5500594845278516\n",
            "--- 103.74970841407776 seconds ---\n",
            "\n",
            "The smallest number of iterations is: 565859 found with beta = 0 with validation accuracy: 0.730\n"
          ]
        }
      ]
    },
    {
      "cell_type": "code",
      "metadata": {
        "colab": {
          "base_uri": "https://localhost:8080/",
          "height": 406
        },
        "id": "GjwelJX136Qd",
        "outputId": "ce405e61-3522-4992-c2c8-9c74dda516df"
      },
      "source": [
        "# Plot the score\n",
        "plt.figure(figsize=(10,6))\n",
        "\n",
        "plt.plot(b_list, acc_list)\n",
        "plt.plot(b_list, val_acc_list)\n",
        "ax = plt.gca()\n",
        "ax.set_xscale('log')\n",
        "\n",
        "plt.xlabel(\"Beta\")\n",
        "plt.ylabel(\"Accuracy\")\n",
        "plt.title(\"Accuracy varies with different beta with batch_size=512\")\n",
        "plt.legend([\"training\", \"validation\"])\n",
        "plt.savefig(\"beta_size_512\")\n",
        "plt.show()"
      ],
      "execution_count": null,
      "outputs": [
        {
          "output_type": "display_data",
          "data": {
            "image/png": "[encoded data removed]",
            "text/plain": [
              "<Figure size 720x432 with 1 Axes>"
            ]
          },
          "metadata": {
            "needs_background": "light"
          }
        }
      ]
    },
    {
      "cell_type": "code",
      "metadata": {
        "colab": {
          "base_uri": "https://localhost:8080/",
          "height": 406
        },
        "id": "3D8n7iQP36Qd",
        "outputId": "4cdbd9ab-481c-4e17-cd07-8534378948f8"
      },
      "source": [
        "# Plot the score\n",
        "plt.figure(figsize=(10,6))\n",
        "\n",
        "plt.plot(b_list, time_list)\n",
        "ax = plt.gca()\n",
        "ax.set_xscale('log')\n",
        "ax.set_yscale('log')\n",
        "\n",
        "plt.xlabel(\"Beta\")\n",
        "plt.ylabel(\"Iteration\")\n",
        "plt.title(\"time cost varies with different beta with batch_size=512\")\n",
        "plt.savefig(\"time_beta_size_512\")\n",
        "plt.show()"
      ],
      "execution_count": null,
      "outputs": [
        {
          "output_type": "display_data",
          "data": {
            "image/png": "[encoded data removed]",
            "text/plain": [
              "<Figure size 720x432 with 1 Axes>"
            ]
          },
          "metadata": {
            "needs_background": "light"
          }
        }
      ]
    },
    {
      "cell_type": "markdown",
      "metadata": {
        "id": "ShViCZlP36Qd"
      },
      "source": [
        "### **Smallest Batch Size: Stochastic**"
      ]
    },
    {
      "cell_type": "code",
      "metadata": {
        "colab": {
          "base_uri": "https://localhost:8080/"
        },
        "id": "tuPzG1sx36Qd",
        "outputId": "e24b69f0-2c74-443e-8ee7-c262e92542bf"
      },
      "source": [
        "# Specify a list of impurity decrease we want to test\n",
        "best_acc = 0\n",
        "best_cfg = 0\n",
        "best_itr = np.Inf\n",
        "#b_list = [0.8, 0.81, 0.82, 0.83, 0.84, 0.85, 0.86, 0.87, 0.88, 0.89, \n",
        "#            0.9, 0.91, 0.92, 0.93, 0.94, 0.95, 0.96, 0.97, 0.98, 0.99]\n",
        "\n",
        "b_list = [0, 0.2, 0.4, 0.6, 0.8, 0.9]\n",
        "acc_list = []\n",
        "val_acc_list = []\n",
        "time_list = []\n",
        "err_list = []\n",
        "\n",
        "for b in b_list:\n",
        "  start_time = time.time()\n",
        "  \n",
        "  model = LogisticRegression(add_bias=True, learning_rate=0.0001, epsilon=0.0001, max_iters=2e6, verbose=True, beta=b, batch_size=1, err_specified=0.55)  \n",
        "\n",
        "  # Predict the result on the training set\n",
        "  model = model.fit_minibatch(X,y)\n",
        "  yh = np.rint( model.predict(X) )\n",
        "  yh_val = np.rint( model.predict(X_val) )\n",
        "  \n",
        "  temp_time = time.time() - start_time\n",
        "  \n",
        "  # Report the accuracy\n",
        "  acc = (y == yh).sum() / y.size\n",
        "  acc_val = (y_val == yh_val).sum() / y_val.size\n",
        "\n",
        "  print(\"accuracy = \"+str(acc_val))\n",
        "  print(\"beta = \" + str(b))\n",
        "  print(\"err = \" + str(model.err))\n",
        "  print(\"--- %s seconds ---\" % (temp_time))\n",
        "  print()\n",
        "\n",
        "  acc_list.append(acc)\n",
        "  val_acc_list.append(acc_val)\n",
        "  time_list.append(model.t)\n",
        "  err_list.append(model.err)\n",
        "\n",
        "  # Keep track of the smallest number of iterations and its configuation\n",
        "  if best_itr > model.t:\n",
        "    best_itr = model.t\n",
        "    best_cfg = b\n",
        "    best_acc = acc_val\n",
        "\n",
        "print(f'The smallest number of iterations is: {best_itr} found with beta = {best_cfg} with validation accuracy: {best_acc:.3f}')"
      ],
      "execution_count": null,
      "outputs": [
        {
          "output_type": "stream",
          "name": "stdout",
          "text": [
            "terminated after 637181 iterations, with norm of the gradient equal to 96.2591030990413\n",
            "g = [ 2.04470389 75.65404399 39.5309419  21.12860688 29.98899041 20.10625493\n",
            "  0.29307422 14.9944952   0.68156796]\n",
            "w = [ 1.84376426e-01  1.80560953e-02 -2.67275080e-02 -1.11723442e-03\n",
            " -7.50612998e-05  7.94807751e-03  5.87668175e-01 -7.06555774e-03\n",
            " -1.89944495e+00]\n",
            "accuracy = 0.73\n",
            "beta = 0\n",
            "err = 0.8048835282192215\n",
            "--- 105.7654447555542 seconds ---\n",
            "\n",
            "terminated after 730184 iterations, with norm of the gradient equal to 51.933395240178086\n",
            "g = [ 0.60545208 33.62864026 23.9953357  10.20400051 25.93350798 11.83982988\n",
            "  0.10223452  8.54728131  0.3645327 ]\n",
            "w = [ 1.86755182e-01  1.95953727e-02 -2.76608661e-02 -9.08705608e-04\n",
            "  2.46912332e-03  1.21833107e-02  6.03059610e-01 -6.92914070e-03\n",
            " -2.14831163e+00]\n",
            "accuracy = 0.68\n",
            "beta = 0.2\n",
            "err = 0.679791193110864\n",
            "--- 121.63926386833191 seconds ---\n",
            "\n",
            "terminated after 665280 iterations, with norm of the gradient equal to 38.62009822711415\n",
            "g = [ -1.68884143 -30.92332767 -17.24335432  -7.88751323   3.22363373\n",
            "  -8.9499701   -0.16167714  -9.07178601  -0.21036622]\n",
            "w = [ 1.92279859e-01  1.92556130e-02 -2.99835580e-02  7.22096044e-03\n",
            " -5.58188140e-04  1.52097485e-02  4.94878977e-01 -1.08223266e-02\n",
            " -1.96909423e+00]\n",
            "accuracy = 0.73\n",
            "beta = 0.4\n",
            "err = 0.5729298756779033\n",
            "--- 110.6521954536438 seconds ---\n",
            "\n",
            "terminated after 723017 iterations, with norm of the gradient equal to 18.399939561802377\n",
            "g = [-3.02369090e-01 -1.37360639e+01 -8.76967482e+00 -4.86349922e+00\n",
            "  5.56293683e+00 -3.80096873e+00 -9.11895067e-03 -1.95418654e+00\n",
            " -1.16266818e-01]\n",
            "w = [ 2.01856813e-01  1.69866964e-02 -3.17521799e-02 -1.49903705e-03\n",
            "  2.62831932e-03  1.86339348e-02  4.46770473e-01 -8.52744295e-03\n",
            " -2.08918991e+00]\n",
            "accuracy = 0.71\n",
            "beta = 0.6\n",
            "err = 0.5629695920903203\n",
            "--- 120.43986487388611 seconds ---\n",
            "\n",
            "terminated after 801638 iterations, with norm of the gradient equal to 40.214587303361704\n",
            "g = [  1.46463364  32.96095993  12.48646571   4.78708584 -11.77608463\n",
            "   8.2244387    0.11642264  11.97478558   0.29728586]\n",
            "w = [ 2.11162447e-01  1.82866395e-02 -3.04238108e-02  7.39574836e-04\n",
            "  9.52806239e-04  1.11643918e-02  3.78654887e-01 -4.65684690e-03\n",
            " -2.23532208e+00]\n",
            "accuracy = 0.71\n",
            "beta = 0.8\n",
            "err = 0.5516945398235555\n",
            "--- 133.75098752975464 seconds ---\n",
            "\n",
            "terminated after 783638 iterations, with norm of the gradient equal to 16.88733549172038\n",
            "g = [  0.54731597  10.66268753   4.47461627   1.28491603 -11.03642742\n",
            "   2.55596065   0.02739285   4.60065091   0.11847255]\n",
            "w = [ 2.29909089e-01  2.17552350e-02 -2.85104845e-02 -1.60362395e-03\n",
            "  1.55247761e-03  1.40967949e-03  3.50685738e-01 -6.72452310e-03\n",
            " -2.18620015e+00]\n",
            "accuracy = 0.7\n",
            "beta = 0.9\n",
            "err = 0.5530992060760557\n",
            "--- 130.05241799354553 seconds ---\n",
            "\n",
            "The smallest number of iterations is: 637181 found with beta = 0 with validation accuracy: 0.730\n"
          ]
        }
      ]
    },
    {
      "cell_type": "code",
      "metadata": {
        "colab": {
          "base_uri": "https://localhost:8080/",
          "height": 406
        },
        "id": "ZtvN4S4N36Qe",
        "outputId": "2bafa679-b403-47ff-c406-7c0306c54fbb"
      },
      "source": [
        "# Plot the score\n",
        "plt.figure(figsize=(10,6))\n",
        "\n",
        "plt.plot(b_list, acc_list)\n",
        "plt.plot(b_list, val_acc_list)\n",
        "ax = plt.gca()\n",
        "ax.set_xscale('log')\n",
        "\n",
        "plt.xlabel(\"Beta\")\n",
        "plt.ylabel(\"Accuracy\")\n",
        "plt.title(\"Accuracy varies with different beta with batch_size=1\")\n",
        "plt.legend([\"training\", \"validation\"])\n",
        "plt.savefig(\"beta_size_1\")\n",
        "plt.show()"
      ],
      "execution_count": null,
      "outputs": [
        {
          "output_type": "display_data",
          "data": {
            "image/png": "[encoded data removed]",
            "text/plain": [
              "<Figure size 720x432 with 1 Axes>"
            ]
          },
          "metadata": {
            "needs_background": "light"
          }
        }
      ]
    },
    {
      "cell_type": "code",
      "metadata": {
        "colab": {
          "base_uri": "https://localhost:8080/",
          "height": 406
        },
        "id": "lyyJHFV_36Qe",
        "outputId": "7ce4e9bd-fc12-4d62-9817-6f29ea0d7a24"
      },
      "source": [
        "# Plot the score\n",
        "plt.figure(figsize=(10,6))\n",
        "\n",
        "plt.plot(b_list, time_list)\n",
        "ax = plt.gca()\n",
        "ax.set_xscale('log')\n",
        "ax.set_yscale('log')\n",
        "\n",
        "plt.xlabel(\"Beta\")\n",
        "plt.ylabel(\"Iteration\")\n",
        "plt.title(\"time cost varies with different beta with batch_size=1\")\n",
        "plt.savefig(\"time_beta_size_1\")\n",
        "plt.show()"
      ],
      "execution_count": null,
      "outputs": [
        {
          "output_type": "display_data",
          "data": {
            "image/png": "[encoded data removed]",
            "text/plain": [
              "<Figure size 720x432 with 1 Axes>"
            ]
          },
          "metadata": {
            "needs_background": "light"
          }
        }
      ]
    },
    {
      "cell_type": "markdown",
      "metadata": {
        "id": "h99kbw5LDWdo"
      },
      "source": [
        "# III. Sectiont 2: Fake News\n"
      ]
    },
    {
      "cell_type": "markdown",
      "metadata": {
        "id": "9C_W8YLOiK2v"
      },
      "source": [
        "## 1). Load the data"
      ]
    },
    {
      "cell_type": "code",
      "metadata": {
        "colab": {
          "base_uri": "https://localhost:8080/"
        },
        "id": "V0z7BoHKTV1l",
        "outputId": "fa666554-f301-424c-b61d-2884fe15e897"
      },
      "source": [
        "import numpy as np\n",
        "import pandas as pd\n",
        "from nltk.stem.snowball import SnowballStemmer\n",
        "stemmer = SnowballStemmer(\"english\")\n",
        "\n",
        "fake_train = pd.read_csv('./drive/MyDrive/COMP551/fake_news/fake_news_train.csv', delimiter=\",\", header =0, index_col=False)\n",
        "\n",
        "# Show the first 5 instances\n",
        "print(fake_train.shape)\n",
        "print(stemmer.stem(\"having\"))\n",
        "\n",
        "X = fake_train[\"text\"].values\n",
        "y = fake_train[\"label\"].values\n",
        "\n",
        "print(X[:5])\n",
        "print(y[:5])"
      ],
      "execution_count": null,
      "outputs": [
        {
          "output_type": "stream",
          "name": "stdout",
          "text": [
            "(20000, 2)\n",
            "have\n",
            "['Indian fruit is so important to so many people. Now that the season has come to an end, the first stop is to pick something fresh and tangy with some sugar.\\nChopped papaya and apple is a little more complicated. And some good fats come in other sugar as well. (Milk and almonds are two great sources of fats, as well as a couple of fruits, such as avocados and okra.) The result is such a healthy, delicious apple-to-berry spread.\\nEasy, Yummy and Delicious\\n1 20-oz. apple or apple-livered bon bons\\n2 tbsp. sugar\\n1/4 tsp. almond extract\\nFreshly ground black pepper\\n2 tbsp. rice vinegar\\n*\\n6 thick and light-flavored bon bons\\nSeason with salt and pepper to taste and vary thickness.\\nTo finish, add the fruit to the bowl of a small mixer fitted with a large paddle attachment. Line a bowl with nonstick cooking spray. (If using spatula for these meals, add enough sugar and almond extract to shake off any excess.)\\nWhen the mixture is thick and solid, remove the bowl from the mixer with a slotted spoon and mix again.\\nWorking with a spatula or ballerina, fold in the sugar as needed and combine with the egg mixture, rice vinegar, almond extract and stir in the berries. Stir-fry until combined, about 2 to 3 minutes. This should be done before serving.\\nNutrition information per serving: 170 calories, 7 g fat, 4 g saturated fat, 131 mg cholesterol, 5 g carbohydrates, 22 g sugar, 10 g protein, 227 mg sodium, 1 g fiber\\nVIEW MORE: Oils discovered in local salad dressings\\nInstructions\\nPlace the shredded bon bons in a food processor. Process until smooth. Use a sharp knife to remove the chunks. Place the bowl in the fruit bowl and grind for 5 minutes. In a small bowl, combine the apples and any fat or oils that have been drained.\\nMeanwhile, cut the fruit into wedges. Garnish with lemon slices and serve.\\nRecipe courtesy of Pieflix, not a major health food chain. To see more of the recipes, go to Pieflix.com.\\nReceive email alerts for Canadian food stories from: Kitchen Gadgets\\n'\n",
            " 'FORT WORTH, Texas — Urú Inc. will hold a conference call today (Thursday, May 10) at 9:00 a.m. Central Time (4:00 p.m. Eastern Time) to discuss its results for the first quarter of fiscal 2019 and the annual meeting of shareholders held on May 10, at the Century Plaza Harris Ranch near Fort Worth, Texas. The call will be available online at http://vidointinc.com/.\\nUrú will hold a live audio webcast of the call, which can be accessed at investor.us/irir . Investors are encouraged to access the webcast by calling (877) 316-1649 or, to join the Urú discussion at investor.us/irir, send an email to investor.us/ir_ir&call_id=1832226 and enter the “Investor Call” link.\\nManagement will participate in the first quarter investor conference call on May 10, 2018 at 9:00 a.m. Central Time (4:00 p.m. Eastern Time) to discuss the Company’s first quarter fiscal 2019 results and the annual meeting of shareholders held on May 10, at the Century Plaza Harris Ranch near Fort Worth, Texas. The call will be available online at investor.us/irir&call_id=1832226 and enter the “Investor Call” link. When prompted, investors will hear this call by confirming the passcode 133746.\\nManagement will also refer to its annual meeting of shareholders on May 15, 2018, which will be held at the Century Plaza Harris Ranch near Fort Worth, Texas. Investors can listen to the conference call live and view the replay by phone using conference number 130030304565 plus the replay passcode 133746. Further information about the 2017 annual meeting of shareholders will be issued by the company on Thursday, May 10, 2018.\\n'\n",
            " 'With three of the four new carriers, the Nigerian Airspace Management Agency (NAMA) has demanded that operators must complete their 5G policies to expedite air traffic requirement, which could affect their usage.\\nNAMA Director General, NAMA, Senator Ayo Adesina (SAN), said the development would not harm the role of the country’s major international air force bases, adding that the nation’s services demand the requirement of the all-weather carriers.\\nHe added that its a must that operators deploy fleets of Tier IV aircraft to respond to any future emergencies, especially during extreme events.\\nThe aviation analyst argued that Nigeria’s functions should not go to quagmire, which in turn must not mean unnecessary delays, which are costly to the country.\\nMr. Adesina, who also represented the Chairman, Nigerian Association of Travel Agents (NATA), Chief Tunde Toye at the maiden National Convention of the Association of Nigerian Travel Agents (NTA) in Kaduna, told the News Agency of Nigeria (NAN) that the industry and the Government should abandon the 5G model to be more visible.\\nThe aviation analyst noted that the growth in connectivity with more & greater population was challenging the the industry to double for the next five years.\\nHe said the bureau was going to support all stakeholders, including the airlines to provide solutions to issues identified by stakeholders and would create channel for fresh solutions.\\nMr. Adesina said the rise in demand for air connectivity was especially dangerous during emergencies and shockwaves.\\n“The nation’s airports have big discrepancies between what they are presenting and what are actually presenting.\\n“The existence of more networks is a great issue. The migration of passengers to international borders, sky wars between the international and domestic air sectors in Japan, which were more in dispute, has outpaced the current realities,” he said.\\nAdesina advocated the need for three modes of connectivity and also, improved network governance and monitoring.\\n“The Oando of Africa Airport Limited, which is now on a 10% runway, has successfully started a 5G network to begin with with all the airports receiving fixed frequency transport for the first phase of the deployment.\\n“Only in the first five years are IATA/NAMA embarking on the 5G network and seeing how it functions. If operators are not up to the challenge, it may reverse itself,” he said.\\n'\n",
            " 'Let\\'s start with the classic annual dividend reinvestment plan for Main Street Capital, and the mission of this company is to \"raise its dividends in a manner that shareholders expect us to do.\" In our view, this was the plan\\'s impetus: Main Street Capital is an industrial hybrid company that was foreclosed upon by the global financial crisis. It has been in the portfolio for the past half-century (we reviewed it some time ago) but ultimately some of these assets have matured to mature or go out of business as we talked about.\\nAnother component of our \"We Like Main Street Capital\" thesis (a dividend component was created in 2004) is their estimated 100% return of dividends paid to Main Street Capital shareholders, divided into three components. Here are three three-year dividends:\\nNet Dividend Return as of Year Ending March 31, 2019 $0.44\\nDividend reinvestment Income as of Year Ending March 31, 2019 $0.39\\nTotal Return as of Year Ending March 31, 2019 $1.22\\nThus far, we have summarized Main Street Capital\\'s cumulative annual dividend payouts as:\\n(1) Annualized dividend growth of 10.8% annually (2013 growth rate plus dividend reinvestment)\\n(2) Average annualized income of $0.48\\n(3) Average annual growth rate of $0.38\\nThe dividends paid per share annually represent total earnings that have not been repurchased since December 31, 2010. The dividends per share dividend growth for the calendar year are rather modest at present, but we expect our dividend data is on the money when it is at its peak. Since the total return of dividends is primarily determined over the first 12 months of the projected year, we also factor a couple of factors into the calculation. First, as we pointed out in our December 2016 note, that dividend growth (Dividend Dividend Coverage per share) is only a percentage of core earnings. This means that it\\'s possible that returns of dividends under capital controls are still too high and Main Street Capital will continue to pay out capital preservation subsidies. Second, we find that dividend yield is fairly far in line with stable income investors, and we expect to see regular increases as Main Street Capital\\'s revenues and net income continue to grow as net income is increasingly difficult to estimate when new customers are added or new investments are held back. Lastly, we do not believe that dividends should decline until the core financial metrics begin to stabilize and focus more on return on capital.\\n(2) However, the current dividend payout ratio of 62.5% is actually lower than the dividend yield offered in the past because of the payout ratio and current payout ratios. Although the current payout ratio is lower than in the past, this is because the strong profit margins that Main Street Capital enjoys rely more on earnings than on dividends.\\nDisclosure: I/we have no positions in any stocks mentioned, and no plans to initiate any positions within the next 72 hours.\\nI wrote this article myself, and it expresses my own opinions. I am not receiving compensation for it (other than from Seeking Alpha). I have no business relationship with any company whose stock is mentioned in this article.\\nAdditional disclosure: I subscribe to SOTY\\'s newsletter. I own shares of Main Street Capital in the open market and only make them myself if there is any reason for me to be a subscriber.\\nOriginal post\\n'\n",
            " 'Following are some of the major events to have occurred on Apr 08\\nReuters\\n1904 – Britain and France signed the “Entente Cordiale”, an agreement settling all disputes between the two.\\n1913 – China’s first parliament opened in Peking.\\n1946 – The League of Nations opened its final session in Geneva before being replaced by the United Nations.\\n1973 – The Spanish painter and sculptor Pablo Picasso, pioneer of Cubism, died.\\n2002 – Maria Felix, Mexico’s foremost movie star, renowned as a femme fatale throughout Latin America, died. She was 88.\\n2002 – Israeli troops open fire on Bethlehem’s Church of Nativity after five-day stand-off with Palestinian militants inside the building.\\n2003 – A U.S. tank fired a shell at the Palestine Hotel in Baghdad packed with foreign journalists, killing Taras Protsyuk, a cameraman from Reuters, and Jose Couso from Spain’s Tele 5.\\n2004 – Condoleezza Rice, then U.S. National Security Adviser, testified before the 9/11 commission that four presidents had failed to fully mobilise against terrorism.\\n2005 – Britain’s Prince Charles marries long-term partner Camilla Parker Bowles.\\n2005 – Britain’s last major carmaker, MG Rover, collapsed after failing to secure a government loan or a life-saving alliance with a Chinese partner. The 100-year-old carmaker once produced the iconic Mini and the Land Rover.\\n2009 – World’s first cloned camel born.\\n']\n",
            "[0 0 0 0 1]\n"
          ]
        }
      ]
    },
    {
      "cell_type": "code",
      "metadata": {
        "colab": {
          "base_uri": "https://localhost:8080/"
        },
        "id": "Ptt4OyfxTeRX",
        "outputId": "0d8597ce-be06-4e8e-aa37-6bef55569e23"
      },
      "source": [
        "fake_val = pd.read_csv('./drive/MyDrive/COMP551/fake_news/fake_news_val.csv', delimiter=\",\", header =0, index_col=False)\n",
        "\n",
        "# Show the first 5 instances\n",
        "print(fake_val.shape)\n",
        "fake_val.head()\n",
        "\n",
        "X_val = fake_val[\"text\"].values\n",
        "y_val= fake_val[\"label\"].values"
      ],
      "execution_count": null,
      "outputs": [
        {
          "output_type": "stream",
          "name": "stdout",
          "text": [
            "(2000, 2)\n"
          ]
        }
      ]
    },
    {
      "cell_type": "code",
      "metadata": {
        "colab": {
          "base_uri": "https://localhost:8080/"
        },
        "id": "BNtH_qUUW4AY",
        "outputId": "62f67972-42ad-4844-f1af-8dbcd865a570"
      },
      "source": [
        "fake_test = pd.read_csv('./drive/MyDrive/COMP551/fake_news/fake_news_test.csv', delimiter=\",\", header =0, index_col=False)\n",
        "\n",
        "# Show the first 5 instances\n",
        "print(fake_test.shape)\n",
        "fake_test.head()\n",
        "\n",
        "X_test = fake_test[\"text\"].values\n",
        "y_test = fake_test[\"label\"].values"
      ],
      "execution_count": null,
      "outputs": [
        {
          "output_type": "stream",
          "name": "stdout",
          "text": [
            "(3000, 2)\n"
          ]
        }
      ]
    },
    {
      "cell_type": "markdown",
      "metadata": {
        "id": "ehrq4qXliTRL"
      },
      "source": [
        "## 2). Apply the model"
      ]
    },
    {
      "cell_type": "code",
      "metadata": {
        "id": "MZ64n0ddM9v-"
      },
      "source": [
        "from sklearn.feature_extraction.text import CountVectorizer\n",
        "from sklearn.feature_extraction.text import TfidfTransformer\n",
        "from sklearn.naive_bayes import MultinomialNB\n",
        "from sklearn.pipeline import Pipeline\n",
        "\n",
        "from sklearn.linear_model import LogisticRegression\n",
        "from sklearn.tree import DecisionTreeClassifier\n",
        "from sklearn.linear_model import SGDClassifier\n",
        "\n",
        "\n",
        "text_clf = Pipeline([\n",
        "    ('vect', CountVectorizer(lowercase=False, analyzer='word', max_df=1.0, min_df=0, stop_words=None, ngram_range=(1,1), preprocessor=None)),\n",
        "    ('tfidf', TfidfTransformer(norm='l2',smooth_idf=False, use_idf=True, sublinear_tf=True)),\n",
        "    ('clf', SGDClassifier(penalty='l1', alpha=0, loss='hinge', max_iter=1000, verbose=1, learning_rate='adaptive', eta0=0.1))])\n",
        "\n",
        "\n",
        "text_clf = text_clf.fit(X, y)"
      ],
      "execution_count": null,
      "outputs": []
    },
    {
      "cell_type": "code",
      "metadata": {
        "colab": {
          "base_uri": "https://localhost:8080/"
        },
        "id": "nTrv44ZrWdyJ",
        "outputId": "c55d499b-861b-4b89-d14b-769dc8f49842"
      },
      "source": [
        "# Predict the results using the model we have trained.\n",
        "print(\"train_acc: \" + str(text_clf.score(X,y)))\n",
        "\n",
        "print(\"validation_acc: \" + str(text_clf.score(X_val,y_val)))\n",
        "\n",
        "print(\"test_acc: \" + str(text_clf.score(X_test,y_test)))"
      ],
      "execution_count": null,
      "outputs": [
        {
          "output_type": "stream",
          "name": "stdout",
          "text": [
            "train_acc: 0.9998\n",
            "validation_acc: 0.7805\n",
            "test_acc: 0.77\n"
          ]
        }
      ]
    },
    {
      "cell_type": "markdown",
      "metadata": {
        "id": "z1gVspDCFbPx"
      },
      "source": [
        "### Try different \"max_df\" "
      ]
    },
    {
      "cell_type": "code",
      "metadata": {
        "id": "Nr9zvBl3axNT",
        "colab": {
          "base_uri": "https://localhost:8080/"
        },
        "outputId": "61a50104-8e79-473d-8f60-4b997e799329"
      },
      "source": [
        "# Try a list of max_df\n",
        "best_acc = 0\n",
        "best_cfg = 0\n",
        "my_list = [1.0, 0.9, 0.8, 0.7, 0.6, 0.5, 0.4, 0.3, 0.2, 0.1]\n",
        "acc_list = []\n",
        "# For each percentage, we train a model, do 5-fold cross validation\n",
        "for item in my_list:\n",
        "\n",
        "  text_clf = Pipeline([\n",
        "    ('vect', CountVectorizer(max_df=item, min_df=0, stop_words = None, analyzer='word', ngram_range=(1, 1), preprocessor=None)),\n",
        "    ('tfidf', TfidfTransformer()),\n",
        "    ('clf', SGDClassifier(penalty='l2', alpha=0.00001, loss='hinge', max_iter=1000, verbose=0, learning_rate='adaptive', eta0=0.1))])\n",
        "  \n",
        "  text_clf = text_clf.fit(X, y)\n",
        "\n",
        "  acc = text_clf.score(X_val,y_val)\n",
        "  print(\"test_acc: \" + str(acc))\n",
        "  acc_list.append(acc)\n",
        "\n",
        "  # Keep track of the best accuracy and its configuation\n",
        "  if acc > best_acc:\n",
        "    best_cfg = item\n",
        "    best_acc = acc\n",
        "\n",
        "print(f'best cross validation accuracy : {best_acc:.3f} found with percentage = {best_cfg}')"
      ],
      "execution_count": null,
      "outputs": [
        {
          "output_type": "stream",
          "name": "stdout",
          "text": [
            "test_acc: 0.735\n",
            "test_acc: 0.7223333333333334\n",
            "test_acc: 0.7223333333333334\n",
            "test_acc: 0.7203333333333334\n",
            "test_acc: 0.7236666666666667\n",
            "test_acc: 0.7186666666666667\n",
            "test_acc: 0.7143333333333334\n",
            "test_acc: 0.7143333333333334\n",
            "test_acc: 0.7046666666666667\n",
            "test_acc: 0.684\n",
            "best cross validation accuracy : 0.735 found with percentage = 1.0\n"
          ]
        }
      ]
    },
    {
      "cell_type": "code",
      "metadata": {
        "colab": {
          "base_uri": "https://localhost:8080/",
          "height": 405
        },
        "id": "2Dztq3BUyotU",
        "outputId": "1b85c255-46b4-4813-c93e-1d1d0535986d"
      },
      "source": [
        "# Plot the score\n",
        "plt.figure(figsize=(10,6))\n",
        "plt.plot(my_list, acc_list)\n",
        "\n",
        "plt.xlabel(\"max_df\")\n",
        "plt.ylabel(\"accuracy\")\n",
        "plt.legend([\"validation\"])\n",
        "plt.title(\"Validation accuracy varies with different max_df\")\n",
        "plt.savefig(\"p2-1\")"
      ],
      "execution_count": null,
      "outputs": [
        {
          "output_type": "display_data",
          "data": {
            "image/png": "[encoded data removed]",
            "text/plain": [
              "<Figure size 720x432 with 1 Axes>"
            ]
          },
          "metadata": {
            "needs_background": "light"
          }
        }
      ]
    },
    {
      "cell_type": "markdown",
      "metadata": {
        "id": "Ok1LylqNFlhp"
      },
      "source": [
        "### Try different \"min_df\""
      ]
    },
    {
      "cell_type": "code",
      "metadata": {
        "id": "wMgDTyJmsvVf",
        "colab": {
          "base_uri": "https://localhost:8080/"
        },
        "outputId": "b5af8f55-06a1-403f-dc94-4cfc7274e8b2"
      },
      "source": [
        "# Specify a list of percentage of data we want to work on\n",
        "best_acc = 0\n",
        "best_cfg = 0\n",
        "my_list = [0, 0.0001, 0.001, 0.01, 0.1, 0.2, 0.5]\n",
        "acc_list = []\n",
        "# For each percentage, we train a model, do 5-fold cross validation\n",
        "for item in my_list:\n",
        "\n",
        "  text_clf = Pipeline([\n",
        "    ('vect', CountVectorizer(max_df=1.0, min_df=item, stop_words = None, analyzer='word', ngram_range=(1, 1), preprocessor=None)),\n",
        "    ('tfidf', TfidfTransformer()),\n",
        "    ('clf', SGDClassifier(penalty='l2', alpha=0.00001, loss='hinge', max_iter=1000, verbose=0, learning_rate='adaptive', eta0=0.1))])\n",
        "  \n",
        "  text_clf = text_clf.fit(X, y)\n",
        "\n",
        "  acc = text_clf.score(X_test,y_test)\n",
        "  print(\"test_acc: \" + str(acc))\n",
        "  acc_list.append(acc)\n",
        "\n",
        "  # Keep track of the best accuracy and its configuation\n",
        "  if acc > best_acc:\n",
        "    best_cfg = item\n",
        "    best_acc = acc\n",
        "\n",
        "print(f'best cross validation accuracy : {best_acc:.3f} found with percentage = {best_cfg}')"
      ],
      "execution_count": null,
      "outputs": [
        {
          "output_type": "stream",
          "name": "stdout",
          "text": [
            "test_acc: 0.734\n",
            "test_acc: 0.7343333333333333\n",
            "test_acc: 0.7266666666666667\n",
            "test_acc: 0.715\n",
            "test_acc: 0.687\n",
            "test_acc: 0.646\n",
            "test_acc: 0.5903333333333334\n",
            "best cross validation accuracy : 0.734 found with percentage = 0.0001\n"
          ]
        }
      ]
    },
    {
      "cell_type": "code",
      "metadata": {
        "colab": {
          "base_uri": "https://localhost:8080/",
          "height": 409
        },
        "id": "UzpHFWEH0LD3",
        "outputId": "d4cdf12c-a226-4b34-c9eb-83dd103a4d7e"
      },
      "source": [
        "# Plot the score\n",
        "plt.figure(figsize=(10,6))\n",
        "plt.plot(my_list, acc_list)\n",
        "\n",
        "ax = plt.gca()\n",
        "ax.set_xscale('log',basex=2)\n",
        "plt.xlabel(\"min_df\")\n",
        "plt.ylabel(\"accuracy\")\n",
        "plt.legend([\"validation\"])\n",
        "plt.title(\"Validation accuracy varies with different min_df\")\n",
        "plt.savefig(\"p2-2\")"
      ],
      "execution_count": null,
      "outputs": [
        {
          "output_type": "display_data",
          "data": {
            "image/png": "[encoded data removed]",
            "text/plain": [
              "<Figure size 720x432 with 1 Axes>"
            ]
          },
          "metadata": {
            "needs_background": "light"
          }
        }
      ]
    }
  ]
}